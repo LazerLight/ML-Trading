{
 "cells": [
  {
   "cell_type": "raw",
   "metadata": {},
   "source": [
    "## QuantiInsti \n",
    "This is QauntiInsti's 'Python for Trading' lesson applied to forex"
   ]
  },
  {
   "cell_type": "code",
   "execution_count": 5,
   "metadata": {},
   "outputs": [],
   "source": [
    "import numpy as np\n",
    "import pandas as pd\n",
    "import matplotlib.pyplot as plt\n",
    "\n",
    "euus = pd.read_csv ('./CSV/EURUSD2014_2018.csv')"
   ]
  },
  {
   "cell_type": "code",
   "execution_count": 7,
   "metadata": {},
   "outputs": [
    {
     "data": {
      "text/html": [
       "<div>\n",
       "<style scoped>\n",
       "    .dataframe tbody tr th:only-of-type {\n",
       "        vertical-align: middle;\n",
       "    }\n",
       "\n",
       "    .dataframe tbody tr th {\n",
       "        vertical-align: top;\n",
       "    }\n",
       "\n",
       "    .dataframe thead th {\n",
       "        text-align: right;\n",
       "    }\n",
       "</style>\n",
       "<table border=\"1\" class=\"dataframe\">\n",
       "  <thead>\n",
       "    <tr style=\"text-align: right;\">\n",
       "      <th></th>\n",
       "      <th>date</th>\n",
       "      <th>open</th>\n",
       "      <th>high</th>\n",
       "      <th>low</th>\n",
       "      <th>close</th>\n",
       "    </tr>\n",
       "  </thead>\n",
       "  <tbody>\n",
       "    <tr>\n",
       "      <th>0</th>\n",
       "      <td>2014-01-01 23:01:00</td>\n",
       "      <td>1.3764</td>\n",
       "      <td>1.3764</td>\n",
       "      <td>1.3761</td>\n",
       "      <td>1.3764</td>\n",
       "    </tr>\n",
       "    <tr>\n",
       "      <th>1</th>\n",
       "      <td>2014-01-01 23:02:00</td>\n",
       "      <td>1.3764</td>\n",
       "      <td>1.3764</td>\n",
       "      <td>1.3763</td>\n",
       "      <td>1.3764</td>\n",
       "    </tr>\n",
       "    <tr>\n",
       "      <th>2</th>\n",
       "      <td>2014-01-01 23:03:00</td>\n",
       "      <td>1.3763</td>\n",
       "      <td>1.3763</td>\n",
       "      <td>1.3760</td>\n",
       "      <td>1.3761</td>\n",
       "    </tr>\n",
       "    <tr>\n",
       "      <th>3</th>\n",
       "      <td>2014-01-01 23:04:00</td>\n",
       "      <td>1.3761</td>\n",
       "      <td>1.3762</td>\n",
       "      <td>1.3761</td>\n",
       "      <td>1.3762</td>\n",
       "    </tr>\n",
       "    <tr>\n",
       "      <th>4</th>\n",
       "      <td>2014-01-01 23:05:00</td>\n",
       "      <td>1.3761</td>\n",
       "      <td>1.3762</td>\n",
       "      <td>1.3761</td>\n",
       "      <td>1.3762</td>\n",
       "    </tr>\n",
       "  </tbody>\n",
       "</table>\n",
       "</div>"
      ],
      "text/plain": [
       "                  date    open    high     low   close\n",
       "0  2014-01-01 23:01:00  1.3764  1.3764  1.3761  1.3764\n",
       "1  2014-01-01 23:02:00  1.3764  1.3764  1.3763  1.3764\n",
       "2  2014-01-01 23:03:00  1.3763  1.3763  1.3760  1.3761\n",
       "3  2014-01-01 23:04:00  1.3761  1.3762  1.3761  1.3762\n",
       "4  2014-01-01 23:05:00  1.3761  1.3762  1.3761  1.3762"
      ]
     },
     "execution_count": 7,
     "metadata": {},
     "output_type": "execute_result"
    }
   ],
   "source": [
    "euus.head()"
   ]
  },
  {
   "cell_type": "code",
   "execution_count": 8,
   "metadata": {},
   "outputs": [],
   "source": [
    "euus = euus [['date', 'close']]\n",
    "\n",
    "euus.set_index('date', inplace=True)\n",
    "\n",
    "euus.index = pd.to_datetime(euus.index)"
   ]
  },
  {
   "cell_type": "code",
   "execution_count": null,
   "metadata": {},
   "outputs": [],
   "source": [
    "%matplotlib inline #Assures plot will appear in jupyter notebook\n",
    "\n",
    "plt.plot(infy_close)\n",
    "\n",
    "plt.show ()"
   ]
  }
 ],
 "metadata": {
  "kernelspec": {
   "display_name": "Python 3",
   "language": "python",
   "name": "python3"
  },
  "language_info": {
   "codemirror_mode": {
    "name": "ipython",
    "version": 3
   },
   "file_extension": ".py",
   "mimetype": "text/x-python",
   "name": "python",
   "nbconvert_exporter": "python",
   "pygments_lexer": "ipython3",
   "version": "3.6.7"
  }
 },
 "nbformat": 4,
 "nbformat_minor": 2
}
