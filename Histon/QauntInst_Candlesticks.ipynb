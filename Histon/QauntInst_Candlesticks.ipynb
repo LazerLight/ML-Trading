{
 "cells": [
  {
   "cell_type": "markdown",
   "metadata": {},
   "source": [
    "## Notebook Instructions\n",
    "\n",
    "<i> You can run the notebook document sequentially (one cell a time) by pressing <b> shift + enter </b>. While a cell is running, In [*] will display on the left. When it has been run, a number will display indicating the order in which it was run in the notebook. Example: In [8]: </i>\n",
    "\n",
    "<i> Enter edit mode by pressing <b> Enter </b> or using the mouse to click on a cell's editor area. Edit mode is indicated by a green cell border and a prompt showing in the editor area. </i>"
   ]
  },
  {
   "cell_type": "markdown",
   "metadata": {},
   "source": [
    "## Plotting Candle sticks \n",
    "\n",
    "The following code will help you to plot an interactive graph of the S&P 500 index using candlesticks."
   ]
  },
  {
   "cell_type": "code",
   "execution_count": 2,
   "metadata": {},
   "outputs": [
    {
     "data": {
      "text/html": [
       "<div>\n",
       "<style scoped>\n",
       "    .dataframe tbody tr th:only-of-type {\n",
       "        vertical-align: middle;\n",
       "    }\n",
       "\n",
       "    .dataframe tbody tr th {\n",
       "        vertical-align: top;\n",
       "    }\n",
       "\n",
       "    .dataframe thead th {\n",
       "        text-align: right;\n",
       "    }\n",
       "</style>\n",
       "<table border=\"1\" class=\"dataframe\">\n",
       "  <thead>\n",
       "    <tr style=\"text-align: right;\">\n",
       "      <th></th>\n",
       "      <th>Local time</th>\n",
       "      <th>Open</th>\n",
       "      <th>High</th>\n",
       "      <th>Low</th>\n",
       "      <th>Close</th>\n",
       "      <th>Volume</th>\n",
       "    </tr>\n",
       "  </thead>\n",
       "  <tbody>\n",
       "    <tr>\n",
       "      <th>0</th>\n",
       "      <td>28.02.2018 22:00:00.000 GMT-0000</td>\n",
       "      <td>1.37591</td>\n",
       "      <td>1.37846</td>\n",
       "      <td>1.37115</td>\n",
       "      <td>1.37746</td>\n",
       "      <td>2.096890e+08</td>\n",
       "    </tr>\n",
       "    <tr>\n",
       "      <th>1</th>\n",
       "      <td>01.03.2018 22:00:00.000 GMT-0000</td>\n",
       "      <td>1.37745</td>\n",
       "      <td>1.38166</td>\n",
       "      <td>1.37554</td>\n",
       "      <td>1.37980</td>\n",
       "      <td>1.913914e+08</td>\n",
       "    </tr>\n",
       "    <tr>\n",
       "      <th>2</th>\n",
       "      <td>02.03.2018 22:00:00.000 GMT-0000</td>\n",
       "      <td>1.37980</td>\n",
       "      <td>1.37980</td>\n",
       "      <td>1.37980</td>\n",
       "      <td>1.37980</td>\n",
       "      <td>0.000000e+00</td>\n",
       "    </tr>\n",
       "    <tr>\n",
       "      <th>3</th>\n",
       "      <td>03.03.2018 22:00:00.000 GMT-0000</td>\n",
       "      <td>1.37980</td>\n",
       "      <td>1.37980</td>\n",
       "      <td>1.37980</td>\n",
       "      <td>1.37980</td>\n",
       "      <td>0.000000e+00</td>\n",
       "    </tr>\n",
       "    <tr>\n",
       "      <th>4</th>\n",
       "      <td>04.03.2018 22:00:00.000 GMT-0000</td>\n",
       "      <td>1.37886</td>\n",
       "      <td>1.38769</td>\n",
       "      <td>1.37664</td>\n",
       "      <td>1.38482</td>\n",
       "      <td>1.853236e+08</td>\n",
       "    </tr>\n",
       "  </tbody>\n",
       "</table>\n",
       "</div>"
      ],
      "text/plain": [
       "                         Local time     Open     High      Low    Close  \\\n",
       "0  28.02.2018 22:00:00.000 GMT-0000  1.37591  1.37846  1.37115  1.37746   \n",
       "1  01.03.2018 22:00:00.000 GMT-0000  1.37745  1.38166  1.37554  1.37980   \n",
       "2  02.03.2018 22:00:00.000 GMT-0000  1.37980  1.37980  1.37980  1.37980   \n",
       "3  03.03.2018 22:00:00.000 GMT-0000  1.37980  1.37980  1.37980  1.37980   \n",
       "4  04.03.2018 22:00:00.000 GMT-0000  1.37886  1.38769  1.37664  1.38482   \n",
       "\n",
       "         Volume  \n",
       "0  2.096890e+08  \n",
       "1  1.913914e+08  \n",
       "2  0.000000e+00  \n",
       "3  0.000000e+00  \n",
       "4  1.853236e+08  "
      ]
     },
     "execution_count": 2,
     "metadata": {},
     "output_type": "execute_result"
    }
   ],
   "source": [
    "from datetime import datetime\n",
    "import pandas as pd\n",
    "start = datetime(2017, 1, 1) # starting date: year-month-date\n",
    "end = datetime(2018, 5, 13) # ending date: year-month-date\n",
    "\n",
    "df = pd.read_csv ('./CSV/GBPUSD.csv')\n",
    "#df = get_historical_data('SPY', start=start, end=end, output_format='pandas') \n",
    "df.head()"
   ]
  },
  {
   "cell_type": "raw",
   "metadata": {},
   "source": [
    "!pip install mpl_finance"
   ]
  },
  {
   "cell_type": "code",
   "execution_count": 22,
   "metadata": {},
   "outputs": [],
   "source": [
    "# Importing the necessary packages\n",
    "\n",
    "import matplotlib.pyplot as plt\n",
    "import mpl_finance as mpf\n",
    "from mpl_finance import candlestick_ohlc\n",
    "from bokeh.plotting import figure, show, output_file\n"
   ]
  },
  {
   "cell_type": "code",
   "execution_count": 23,
   "metadata": {},
   "outputs": [],
   "source": [
    "# Indexing \n",
    "import pandas as pd\n",
    "w = 12*60*60*1000 # half day in ms\n",
    "df.index = pd.to_datetime(df.index)"
   ]
  },
  {
   "cell_type": "markdown",
   "metadata": {},
   "source": [
    "## Remember:\n",
    "\n",
    "1. If the opening price is less than the closing price then a green candle stick is to be created to represent the day. \n",
    "2. If the opening price is greater than the closing price then a red candlestick is to be created to represent the day.\n",
    "1. We will use 'inc' and 'dec' as the variable to capture these two patterns in the code."
   ]
  },
  {
   "cell_type": "code",
   "execution_count": 24,
   "metadata": {},
   "outputs": [],
   "source": [
    "inc = df.close > df.open\n",
    "dec = df.open > df.close"
   ]
  },
  {
   "cell_type": "code",
   "execution_count": 25,
   "metadata": {},
   "outputs": [],
   "source": [
    "# The various 'interactions' we want in our candlestick graph. This is an argument to be passed in figure () from bokeh.plotting\n",
    "\n",
    "TOOLS = \"pan,wheel_zoom,box_zoom,reset,save\"\n",
    "\n",
    "# Pan: It helps you pan/move the plot\n",
    "\n",
    "# Wheel Zoom: You can zoom in using the wheel of your mouse\n",
    "\n",
    "# Box Zoom: You can zoom in by creating a box on the specific area of the plot. Use the mouse, click and drag to create the box\n",
    "\n",
    "# Reset: If you want to reset the visualisation of the plot\n",
    "\n",
    "# Save: Saving the plot (entire or the part which you want) as an image file"
   ]
  },
  {
   "cell_type": "code",
   "execution_count": 26,
   "metadata": {},
   "outputs": [],
   "source": [
    "# Passing the arguments of our bokeh plot\n",
    "\n",
    "p = figure(x_axis_type=\"datetime\", tools= TOOLS, plot_width=1000, title=\"SPY Candlestick\")"
   ]
  },
  {
   "cell_type": "code",
   "execution_count": 27,
   "metadata": {},
   "outputs": [],
   "source": [
    "from math import pi\n",
    "\n",
    "# The orientation of major tick labels can be controlled with the major_label_orientation property.\n",
    "# This property accepts the values \"horizontal\" or \"vertical\" or a floating point number that gives\n",
    "# the angle (in radians) to rotate from the horizontal.\n",
    "\n",
    "p.xaxis.major_label_orientation = pi/4"
   ]
  },
  {
   "cell_type": "code",
   "execution_count": 28,
   "metadata": {},
   "outputs": [],
   "source": [
    "# Alpha signifies the floating point between 0 (transparent) and 1 (opaque).\n",
    "# The line specifies the alpha for the grid lines in the plot.\n",
    "\n",
    "p.grid.grid_line_alpha = 0.3"
   ]
  },
  {
   "cell_type": "code",
   "execution_count": 29,
   "metadata": {},
   "outputs": [
    {
     "data": {
      "text/html": [
       "<div style=\"display: table;\"><div style=\"display: table-row;\"><div style=\"display: table-cell;\"><b title=\"bokeh.models.renderers.GlyphRenderer\">GlyphRenderer</b>(</div><div style=\"display: table-cell;\">id&nbsp;=&nbsp;'7736b54b-63a1-4631-9814-8e92e5f38b4a', <span id=\"e0d54661-1846-451a-a034-5eb9a171e633\" style=\"cursor: pointer;\">&hellip;)</span></div></div><div class=\"5835ac2b-492b-4b58-a1a5-c66f64040def\" style=\"display: none;\"><div style=\"display: table-cell;\"></div><div style=\"display: table-cell;\">data_source&nbsp;=&nbsp;ColumnDataSource(id='e74c1ae8-ab06-487e-8037-e7737e7a8a00', ...),</div></div><div class=\"5835ac2b-492b-4b58-a1a5-c66f64040def\" style=\"display: none;\"><div style=\"display: table-cell;\"></div><div style=\"display: table-cell;\">glyph&nbsp;=&nbsp;Segment(id='ff426cd7-c865-4f16-b48a-e8f240db0629', ...),</div></div><div class=\"5835ac2b-492b-4b58-a1a5-c66f64040def\" style=\"display: none;\"><div style=\"display: table-cell;\"></div><div style=\"display: table-cell;\">hover_glyph&nbsp;=&nbsp;None,</div></div><div class=\"5835ac2b-492b-4b58-a1a5-c66f64040def\" style=\"display: none;\"><div style=\"display: table-cell;\"></div><div style=\"display: table-cell;\">js_event_callbacks&nbsp;=&nbsp;{},</div></div><div class=\"5835ac2b-492b-4b58-a1a5-c66f64040def\" style=\"display: none;\"><div style=\"display: table-cell;\"></div><div style=\"display: table-cell;\">js_property_callbacks&nbsp;=&nbsp;{},</div></div><div class=\"5835ac2b-492b-4b58-a1a5-c66f64040def\" style=\"display: none;\"><div style=\"display: table-cell;\"></div><div style=\"display: table-cell;\">level&nbsp;=&nbsp;'glyph',</div></div><div class=\"5835ac2b-492b-4b58-a1a5-c66f64040def\" style=\"display: none;\"><div style=\"display: table-cell;\"></div><div style=\"display: table-cell;\">muted&nbsp;=&nbsp;False,</div></div><div class=\"5835ac2b-492b-4b58-a1a5-c66f64040def\" style=\"display: none;\"><div style=\"display: table-cell;\"></div><div style=\"display: table-cell;\">muted_glyph&nbsp;=&nbsp;None,</div></div><div class=\"5835ac2b-492b-4b58-a1a5-c66f64040def\" style=\"display: none;\"><div style=\"display: table-cell;\"></div><div style=\"display: table-cell;\">name&nbsp;=&nbsp;None,</div></div><div class=\"5835ac2b-492b-4b58-a1a5-c66f64040def\" style=\"display: none;\"><div style=\"display: table-cell;\"></div><div style=\"display: table-cell;\">nonselection_glyph&nbsp;=&nbsp;Segment(id='6d640f27-6615-4d3d-a6ca-9f75a48acca0', ...),</div></div><div class=\"5835ac2b-492b-4b58-a1a5-c66f64040def\" style=\"display: none;\"><div style=\"display: table-cell;\"></div><div style=\"display: table-cell;\">selection_glyph&nbsp;=&nbsp;None,</div></div><div class=\"5835ac2b-492b-4b58-a1a5-c66f64040def\" style=\"display: none;\"><div style=\"display: table-cell;\"></div><div style=\"display: table-cell;\">subscribed_events&nbsp;=&nbsp;[],</div></div><div class=\"5835ac2b-492b-4b58-a1a5-c66f64040def\" style=\"display: none;\"><div style=\"display: table-cell;\"></div><div style=\"display: table-cell;\">tags&nbsp;=&nbsp;[],</div></div><div class=\"5835ac2b-492b-4b58-a1a5-c66f64040def\" style=\"display: none;\"><div style=\"display: table-cell;\"></div><div style=\"display: table-cell;\">view&nbsp;=&nbsp;CDSView(id='2b4a8089-601a-4393-a5e8-2584d6ad27d6', ...),</div></div><div class=\"5835ac2b-492b-4b58-a1a5-c66f64040def\" style=\"display: none;\"><div style=\"display: table-cell;\"></div><div style=\"display: table-cell;\">visible&nbsp;=&nbsp;True,</div></div><div class=\"5835ac2b-492b-4b58-a1a5-c66f64040def\" style=\"display: none;\"><div style=\"display: table-cell;\"></div><div style=\"display: table-cell;\">x_range_name&nbsp;=&nbsp;'default',</div></div><div class=\"5835ac2b-492b-4b58-a1a5-c66f64040def\" style=\"display: none;\"><div style=\"display: table-cell;\"></div><div style=\"display: table-cell;\">y_range_name&nbsp;=&nbsp;'default')</div></div></div>\n",
       "<script>\n",
       "(function() {\n",
       "  var expanded = false;\n",
       "  var ellipsis = document.getElementById(\"e0d54661-1846-451a-a034-5eb9a171e633\");\n",
       "  ellipsis.addEventListener(\"click\", function() {\n",
       "    var rows = document.getElementsByClassName(\"5835ac2b-492b-4b58-a1a5-c66f64040def\");\n",
       "    for (var i = 0; i < rows.length; i++) {\n",
       "      var el = rows[i];\n",
       "      el.style.display = expanded ? \"none\" : \"table-row\";\n",
       "    }\n",
       "    ellipsis.innerHTML = expanded ? \"&hellip;)\" : \"&lsaquo;&lsaquo;&lsaquo;\";\n",
       "    expanded = !expanded;\n",
       "  });\n",
       "})();\n",
       "</script>\n"
      ],
      "text/plain": [
       "GlyphRenderer(id='7736b54b-63a1-4631-9814-8e92e5f38b4a', ...)"
      ]
     },
     "execution_count": 29,
     "metadata": {},
     "output_type": "execute_result"
    }
   ],
   "source": [
    "# Configure and add segment glyphs to the figure\n",
    "\n",
    "p.segment(df.index,df.high,df.index,df.low,color=\"red\")"
   ]
  },
  {
   "cell_type": "code",
   "execution_count": 30,
   "metadata": {},
   "outputs": [
    {
     "data": {
      "text/html": [
       "<div style=\"display: table;\"><div style=\"display: table-row;\"><div style=\"display: table-cell;\"><b title=\"bokeh.models.renderers.GlyphRenderer\">GlyphRenderer</b>(</div><div style=\"display: table-cell;\">id&nbsp;=&nbsp;'4fc83f2a-6166-4670-884a-cdab94bd5bb0', <span id=\"ff8fc36f-e656-47ea-bbba-96e25dd62726\" style=\"cursor: pointer;\">&hellip;)</span></div></div><div class=\"1e3e81fa-5c1e-42a1-abd5-f90a227e9bac\" style=\"display: none;\"><div style=\"display: table-cell;\"></div><div style=\"display: table-cell;\">data_source&nbsp;=&nbsp;ColumnDataSource(id='ee1c3e26-107f-4700-8da8-541713e9089d', ...),</div></div><div class=\"1e3e81fa-5c1e-42a1-abd5-f90a227e9bac\" style=\"display: none;\"><div style=\"display: table-cell;\"></div><div style=\"display: table-cell;\">glyph&nbsp;=&nbsp;VBar(id='4a9a9184-027b-4ff2-8eef-8e35124288a3', ...),</div></div><div class=\"1e3e81fa-5c1e-42a1-abd5-f90a227e9bac\" style=\"display: none;\"><div style=\"display: table-cell;\"></div><div style=\"display: table-cell;\">hover_glyph&nbsp;=&nbsp;None,</div></div><div class=\"1e3e81fa-5c1e-42a1-abd5-f90a227e9bac\" style=\"display: none;\"><div style=\"display: table-cell;\"></div><div style=\"display: table-cell;\">js_event_callbacks&nbsp;=&nbsp;{},</div></div><div class=\"1e3e81fa-5c1e-42a1-abd5-f90a227e9bac\" style=\"display: none;\"><div style=\"display: table-cell;\"></div><div style=\"display: table-cell;\">js_property_callbacks&nbsp;=&nbsp;{},</div></div><div class=\"1e3e81fa-5c1e-42a1-abd5-f90a227e9bac\" style=\"display: none;\"><div style=\"display: table-cell;\"></div><div style=\"display: table-cell;\">level&nbsp;=&nbsp;'glyph',</div></div><div class=\"1e3e81fa-5c1e-42a1-abd5-f90a227e9bac\" style=\"display: none;\"><div style=\"display: table-cell;\"></div><div style=\"display: table-cell;\">muted&nbsp;=&nbsp;False,</div></div><div class=\"1e3e81fa-5c1e-42a1-abd5-f90a227e9bac\" style=\"display: none;\"><div style=\"display: table-cell;\"></div><div style=\"display: table-cell;\">muted_glyph&nbsp;=&nbsp;None,</div></div><div class=\"1e3e81fa-5c1e-42a1-abd5-f90a227e9bac\" style=\"display: none;\"><div style=\"display: table-cell;\"></div><div style=\"display: table-cell;\">name&nbsp;=&nbsp;None,</div></div><div class=\"1e3e81fa-5c1e-42a1-abd5-f90a227e9bac\" style=\"display: none;\"><div style=\"display: table-cell;\"></div><div style=\"display: table-cell;\">nonselection_glyph&nbsp;=&nbsp;VBar(id='d1b83f6b-6a02-4c0f-8e94-9209a42f5027', ...),</div></div><div class=\"1e3e81fa-5c1e-42a1-abd5-f90a227e9bac\" style=\"display: none;\"><div style=\"display: table-cell;\"></div><div style=\"display: table-cell;\">selection_glyph&nbsp;=&nbsp;None,</div></div><div class=\"1e3e81fa-5c1e-42a1-abd5-f90a227e9bac\" style=\"display: none;\"><div style=\"display: table-cell;\"></div><div style=\"display: table-cell;\">subscribed_events&nbsp;=&nbsp;[],</div></div><div class=\"1e3e81fa-5c1e-42a1-abd5-f90a227e9bac\" style=\"display: none;\"><div style=\"display: table-cell;\"></div><div style=\"display: table-cell;\">tags&nbsp;=&nbsp;[],</div></div><div class=\"1e3e81fa-5c1e-42a1-abd5-f90a227e9bac\" style=\"display: none;\"><div style=\"display: table-cell;\"></div><div style=\"display: table-cell;\">view&nbsp;=&nbsp;CDSView(id='61319a3f-5a8a-405c-949f-a931f3038229', ...),</div></div><div class=\"1e3e81fa-5c1e-42a1-abd5-f90a227e9bac\" style=\"display: none;\"><div style=\"display: table-cell;\"></div><div style=\"display: table-cell;\">visible&nbsp;=&nbsp;True,</div></div><div class=\"1e3e81fa-5c1e-42a1-abd5-f90a227e9bac\" style=\"display: none;\"><div style=\"display: table-cell;\"></div><div style=\"display: table-cell;\">x_range_name&nbsp;=&nbsp;'default',</div></div><div class=\"1e3e81fa-5c1e-42a1-abd5-f90a227e9bac\" style=\"display: none;\"><div style=\"display: table-cell;\"></div><div style=\"display: table-cell;\">y_range_name&nbsp;=&nbsp;'default')</div></div></div>\n",
       "<script>\n",
       "(function() {\n",
       "  var expanded = false;\n",
       "  var ellipsis = document.getElementById(\"ff8fc36f-e656-47ea-bbba-96e25dd62726\");\n",
       "  ellipsis.addEventListener(\"click\", function() {\n",
       "    var rows = document.getElementsByClassName(\"1e3e81fa-5c1e-42a1-abd5-f90a227e9bac\");\n",
       "    for (var i = 0; i < rows.length; i++) {\n",
       "      var el = rows[i];\n",
       "      el.style.display = expanded ? \"none\" : \"table-row\";\n",
       "    }\n",
       "    ellipsis.innerHTML = expanded ? \"&hellip;)\" : \"&lsaquo;&lsaquo;&lsaquo;\";\n",
       "    expanded = !expanded;\n",
       "  });\n",
       "})();\n",
       "</script>\n"
      ],
      "text/plain": [
       "GlyphRenderer(id='4fc83f2a-6166-4670-884a-cdab94bd5bb0', ...)"
      ]
     },
     "execution_count": 30,
     "metadata": {},
     "output_type": "execute_result"
    }
   ],
   "source": [
    "# Adds vbar glyphs to the Figure\n",
    "\n",
    "p.vbar(df.index[inc],w,df.open[inc],df.close[inc], fill_color=\"#1ED837\",line_color=\"black\")\n",
    "p.vbar(df.index[dec],w,df.open[dec],df.close[dec], fill_color=\"#F2583E\",line_color=\"black\")\n"
   ]
  },
  {
   "cell_type": "code",
   "execution_count": 31,
   "metadata": {},
   "outputs": [],
   "source": [
    "# Generates simple standalone HTML documents for Bokeh visualization\n",
    "\n",
    "output_file(\"candlestick.html\", title=\"candlestick.py example\")  "
   ]
  },
  {
   "cell_type": "code",
   "execution_count": 32,
   "metadata": {},
   "outputs": [],
   "source": [
    "# The graph will open in another tab of the browser\n",
    "\n",
    "show(p)\n",
    "\n",
    "# The code ends here"
   ]
  },
  {
   "cell_type": "code",
   "execution_count": 13,
   "metadata": {},
   "outputs": [
    {
     "data": {
      "text/html": [
       "\n",
       "<!DOCTYPE html>\n",
       "<html lang=\"en\">\n",
       "    <head>\n",
       "        <meta charset=\"utf-8\">\n",
       "        <title>candlestick.py example</title>\n",
       "        \n",
       "<link rel=\"stylesheet\" href=\"https://cdn.pydata.org/bokeh/release/bokeh-0.12.5.min.css\" type=\"text/css\" />\n",
       "        \n",
       "<script type=\"text/javascript\" src=\"https://cdn.pydata.org/bokeh/release/bokeh-0.12.5.min.js\"></script>\n",
       "<script type=\"text/javascript\">\n",
       "    Bokeh.set_log_level(\"info\");\n",
       "</script>\n",
       "        <style>\n",
       "          html {\n",
       "            width: 100%;\n",
       "            height: 100%;\n",
       "          }\n",
       "          body {\n",
       "            width: 90%;\n",
       "            height: 100%;\n",
       "            margin: auto;\n",
       "          }\n",
       "        </style>\n",
       "    </head>\n",
       "    <body>\n",
       "        \n",
       "        <div class=\"bk-root\">\n",
       "            <div class=\"bk-plotdiv\" id=\"3233d8eb-4215-4d6c-9b93-300bbe8b34ae\"></div>\n",
       "        </div>\n",
       "        \n",
       "        <script type=\"text/javascript\">\n",
       "            (function() {\n",
       "          var fn = function() {\n",
       "            Bokeh.safely(function() {\n",
       "              var docs_json = {\"b1bfbdb7-a041-4370-95f6-5c84acaf071b\":{\"roots\":{\"references\":[{\"attributes\":{\"callback\":null},\"id\":\"69ccb6de-ff06-4132-962f-0588a7548449\",\"type\":\"DataRange1d\"},{\"attributes\":{\"base\":24,\"mantissas\":[1,2,4,6,8,12],\"max_interval\":43200000.0,\"min_interval\":3600000.0,\"num_minor_ticks\":0},\"id\":\"c6d02f58-ca32-4a08-aa98-c5486d41112a\",\"type\":\"AdaptiveTicker\"},{\"attributes\":{\"line_alpha\":{\"value\":0.1},\"line_color\":{\"value\":\"#1f77b4\"},\"x0\":{\"field\":\"x0\"},\"x1\":{\"field\":\"x1\"},\"y0\":{\"field\":\"y0\"},\"y1\":{\"field\":\"y1\"}},\"id\":\"68daebe4-ab8f-4b08-b49d-7822676269ff\",\"type\":\"Segment\"},{\"attributes\":{\"line_color\":{\"value\":\"red\"},\"x0\":{\"field\":\"x0\"},\"x1\":{\"field\":\"x1\"},\"y0\":{\"field\":\"y0\"},\"y1\":{\"field\":\"y1\"}},\"id\":\"3cdea173-7dc7-4453-b0c5-a2b97bc5f8e8\",\"type\":\"Segment\"},{\"attributes\":{\"months\":[0,4,8]},\"id\":\"e35e4a27-c3a6-4187-b7a0-a61c9533dc44\",\"type\":\"MonthsTicker\"},{\"attributes\":{},\"id\":\"a24bdc51-b961-4877-b7b5-a6afae70a718\",\"type\":\"ToolEvents\"},{\"attributes\":{\"plot\":{\"id\":\"d8479e2c-9c00-47ce-80bf-5993dc48bf46\",\"subtype\":\"Figure\",\"type\":\"Plot\"}},\"id\":\"2916c2e9-d8db-4d5d-a494-eab203d233e7\",\"type\":\"PanTool\"},{\"attributes\":{\"data_source\":{\"id\":\"fde496b7-57b0-4100-8b8e-a550f273de02\",\"type\":\"ColumnDataSource\"},\"glyph\":{\"id\":\"7e167b63-8bbd-4a47-af41-30aed6c42833\",\"type\":\"VBar\"},\"hover_glyph\":null,\"muted_glyph\":null,\"nonselection_glyph\":{\"id\":\"981a1b48-b19b-4e81-8144-b761d7361c8f\",\"type\":\"VBar\"},\"selection_glyph\":null},\"id\":\"7a48ab51-e7df-4313-917d-1365d56cf330\",\"type\":\"GlyphRenderer\"},{\"attributes\":{\"num_minor_ticks\":5},\"id\":\"d83612cc-1296-45a9-ad6b-966479c0c708\",\"type\":\"DatetimeTicker\"},{\"attributes\":{\"days\":[1,15]},\"id\":\"5e21d2ad-567e-444a-a188-99b0eb28891a\",\"type\":\"DaysTicker\"},{\"attributes\":{\"days\":[1,8,15,22]},\"id\":\"d359baa1-be05-43a8-87d5-8b9abcd31bbc\",\"type\":\"DaysTicker\"},{\"attributes\":{\"bottom\":{\"field\":\"bottom\"},\"fill_alpha\":{\"value\":0.1},\"fill_color\":{\"value\":\"#1f77b4\"},\"line_alpha\":{\"value\":0.1},\"line_color\":{\"value\":\"#1f77b4\"},\"top\":{\"field\":\"top\"},\"width\":{\"value\":43200000},\"x\":{\"field\":\"x\"}},\"id\":\"981a1b48-b19b-4e81-8144-b761d7361c8f\",\"type\":\"VBar\"},{\"attributes\":{},\"id\":\"9d2e5a7f-dbe0-4dc0-a001-d41cdab05b49\",\"type\":\"BasicTicker\"},{\"attributes\":{\"overlay\":{\"id\":\"c42dff0d-ee90-4958-81d4-074d105baf6b\",\"type\":\"BoxAnnotation\"},\"plot\":{\"id\":\"d8479e2c-9c00-47ce-80bf-5993dc48bf46\",\"subtype\":\"Figure\",\"type\":\"Plot\"}},\"id\":\"d0d37ff0-5da6-4f5e-81ab-60e5052672e3\",\"type\":\"BoxZoomTool\"},{\"attributes\":{\"bottom_units\":\"screen\",\"fill_alpha\":{\"value\":0.5},\"fill_color\":{\"value\":\"lightgrey\"},\"left_units\":\"screen\",\"level\":\"overlay\",\"line_alpha\":{\"value\":1.0},\"line_color\":{\"value\":\"black\"},\"line_dash\":[4,4],\"line_width\":{\"value\":2},\"plot\":null,\"render_mode\":\"css\",\"right_units\":\"screen\",\"top_units\":\"screen\"},\"id\":\"c42dff0d-ee90-4958-81d4-074d105baf6b\",\"type\":\"BoxAnnotation\"},{\"attributes\":{\"grid_line_alpha\":{\"value\":0.3},\"plot\":{\"id\":\"d8479e2c-9c00-47ce-80bf-5993dc48bf46\",\"subtype\":\"Figure\",\"type\":\"Plot\"},\"ticker\":{\"id\":\"d83612cc-1296-45a9-ad6b-966479c0c708\",\"type\":\"DatetimeTicker\"}},\"id\":\"5d45e59a-4e38-4271-9e4a-aeb0b14fe97a\",\"type\":\"Grid\"},{\"attributes\":{\"days\":[1,4,7,10,13,16,19,22,25,28]},\"id\":\"5b42827a-91e7-48bb-8c03-9c344f88edba\",\"type\":\"DaysTicker\"},{\"attributes\":{\"days\":[1,2,3,4,5,6,7,8,9,10,11,12,13,14,15,16,17,18,19,20,21,22,23,24,25,26,27,28,29,30,31]},\"id\":\"2e3f9177-9e5c-4bc7-b83d-f14798442438\",\"type\":\"DaysTicker\"},{\"attributes\":{\"plot\":{\"id\":\"d8479e2c-9c00-47ce-80bf-5993dc48bf46\",\"subtype\":\"Figure\",\"type\":\"Plot\"}},\"id\":\"31f4c4a0-f1b9-477b-88bb-68d83ebea02d\",\"type\":\"WheelZoomTool\"},{\"attributes\":{\"max_interval\":500.0,\"num_minor_ticks\":0},\"id\":\"c7403d88-5213-472e-9387-248c22d207b2\",\"type\":\"AdaptiveTicker\"},{\"attributes\":{},\"id\":\"6bfe0d1c-e2f1-4f67-9fc3-d665f28cc213\",\"type\":\"DatetimeTickFormatter\"},{\"attributes\":{\"plot\":{\"id\":\"d8479e2c-9c00-47ce-80bf-5993dc48bf46\",\"subtype\":\"Figure\",\"type\":\"Plot\"}},\"id\":\"b4b5e32f-bebf-4da3-a13b-8cab9e39a831\",\"type\":\"ResetTool\"},{\"attributes\":{\"months\":[0,1,2,3,4,5,6,7,8,9,10,11]},\"id\":\"cc7d9f46-0119-4832-9879-ad864404cb56\",\"type\":\"MonthsTicker\"},{\"attributes\":{},\"id\":\"58c401f5-dace-4611-a585-ac4ca3b1099e\",\"type\":\"BasicTickFormatter\"},{\"attributes\":{\"callback\":null,\"column_names\":[\"bottom\",\"top\",\"x\"],\"data\":{\"bottom\":{\"__ndarray__\":\"tTf4wmSCa0A/NV66SaxrQN/gC5OppmtAnKIjufy/a0BfmEwVjLxrQNCzWfW5qmtA8BZIUPy6a0DysFBrmrFrQEXY8PRKsWtAyjLEsS7Ma0Cyne+nxglsQE7RkVz+yWtAfa62Yn/Ra0AxmSoYlQJsQKhXyjLE9WtA+n5qvHT/a0Drc7UV+ylsQN9PjZduRmxAQBNhw9NtbEBCz2bV54psQOLplbIMsWxAlWWIY122bEDu68A5I+JsQHrHKTqS22xAJLn8h/TpbEBEaW/whfVsQKyL22gASW1AFK5H4XoebUCOBvAWSAhtQA+cM6K07WxAxSCwcmgLbUA7AU2EDS9tQJvmHafovGxA7C+7Jw+1bEDKMsSxLqhsQCGwcmiR3WxAvJaQD3rkbEAg0m9fB/xsQDvfT42X4mxAyAc9m1XhbEAgQfFjzNlsQBPyQc9m1WxAvHSTGATGbEDSAN4CCbBsQC6QoPgx3mxA+1xtxf5CbUB0tRX7y0BtQHqlLEMcZ21AnMQgsHJsbUDsL7snD11tQHKKjuTyeW1AcF8HzhkLbUBTliGOdTttQPp+arx0YW1Aw9MrZRlybUD5D+m3r4NtQCBB8WPMp21Ap3nHKTqmbUASg8DKoZ9tQIMvTKYK2m1AaCJseHrzbUDn+6nx0u1tQKyt2F92421AUwWjkjrnbUCDL0ymCtptQB04Z0Rp/21ATRWMSurmbUDDZKpgVChuQI51cRsN+G1AHThnRGkDbkD/snvysOxtQGsr9pfd121AowG8BRLgbUBcIEHxY9ptQI/k8h/SE25ASZ2AJsIgbkApyxDHukRuQGTMXUvIQ25AgLdAguJHbkBg5dAi23FuQKrx0k1ibm5AH/RsVn1sbkBv8IXJVG9uQAg9m1WfjW5AQKTfvg56bkDswDkjShduQIEmwoanY25AG55eKcvwbUBt5/up8UBuQGx4eqUsJW5Aak3zjlMubkAJih9j7lJuQBKDwMqhgW5AEOm3rwNvbkClLEMc62RuQO5aQj7ot25AysNCrWnSbkDgvg6cM9ZuQO/Jw0Kt025AmEwVjErebkAXSFD8GO9uQJwzorQ35m5Ab4EExY/5bkCppE5AEwNvQJf/kH77Hm9ACyQofoxBb0DpJjEIrFJvQCNKe4MvXG9ARPrt68CLb0Bq3nGKjoJvQMbctYR8im9AE2HD0yuXb0DWVuwvu59vQD0K16NwpW9ANjy9Upavb0BIUPwYc9lvQLyWkA967G9AkQ96Nqvob0DgLZCg+AFwQAfwFkhQCHBA5fIf0m8McEBFR3L5D/tvQPH0SlmG+G9A93XgnBEAcEB6pSxDHO1vQOSDns2qBHBAd76fGi//b0CvlGWIYxpwQMdLN4lBIHBA54wo7Q1IcEDwFkhQ/GlwQP5D+u3rTXBAW9O84xRbcECgibDh6XFwQO0NvjCZfnBAjnVxGw2GcEBX7C+7J5dwQGB2Tx4WsnBA9bnaiv2hcEBn1edqK7twQHh6pSxD1nBAhjjWxW3ocEAwTKYKRgVxQLdif9k9DXFAMnctIR8XcUCGONbFbRBxQKOSOgFNMHFAnKIjufxMcUClLEMc62dxQOSDns2qdHFArIvbaACZcUAbDeAtkKJxQE7RkVz+1nFAB/AWSFCHcUDuWkI+6MBwQAfwFkhQR3BANIC3QIKEcEB0RpT2Bo9wQF5LyAc9yHBA7C+7Jw//cEAcfGEyVQBxQEa28/3UGXFA5IOezapMcUB6pSxDHMBwQOkmMQis8XBAqaROQBP7cEB6pSxDHBBxQDcawFsgXHFAMzMzMzPvcED2KFyPwpFwQGZmZmZmcnBAuB6F61FMcEApXI/C9XhwQArXo3A9mnBAZmZmZmaScEBcj8L1KHxwQHsUrkfhnnBA4XoUrke1cEDXo3A9CuNwQK5H4XoUenBAKVyPwvWkcEBI4XoUro9wQFK4HoXraXBAuB6F61GgcEAfhetRuK5wQB+F61G4rnBAAAAAAADYcEC4HoXrUQBxQJqZmZmZDXFA\",\"dtype\":\"float64\",\"shape\":[189]},\"top\":{\"__ndarray__\":\"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\",\"dtype\":\"float64\",\"shape\":[189]},\"x\":[\"2017-01-03\",\"2017-01-04\",\"2017-01-05\",\"2017-01-06\",\"2017-01-11\",\"2017-01-12\",\"2017-01-13\",\"2017-01-18\",\"2017-01-20\",\"2017-01-24\",\"2017-01-25\",\"2017-01-31\",\"2017-02-02\",\"2017-02-03\",\"2017-02-06\",\"2017-02-08\",\"2017-02-09\",\"2017-02-10\",\"2017-02-13\",\"2017-02-14\",\"2017-02-15\",\"2017-02-17\",\"2017-02-21\",\"2017-02-22\",\"2017-02-24\",\"2017-02-27\",\"2017-03-01\",\"2017-03-03\",\"2017-03-06\",\"2017-03-09\",\"2017-03-13\",\"2017-03-15\",\"2017-03-22\",\"2017-03-23\",\"2017-03-27\",\"2017-03-28\",\"2017-03-29\",\"2017-03-30\",\"2017-04-04\",\"2017-04-06\",\"2017-04-07\",\"2017-04-11\",\"2017-04-17\",\"2017-04-18\",\"2017-04-20\",\"2017-04-25\",\"2017-05-03\",\"2017-05-05\",\"2017-05-10\",\"2017-05-11\",\"2017-05-15\",\"2017-05-18\",\"2017-05-19\",\"2017-05-22\",\"2017-05-23\",\"2017-05-24\",\"2017-05-25\",\"2017-05-26\",\"2017-05-30\",\"2017-06-01\",\"2017-06-02\",\"2017-06-05\",\"2017-06-07\",\"2017-06-08\",\"2017-06-12\",\"2017-06-13\",\"2017-06-15\",\"2017-06-19\",\"2017-06-23\",\"2017-06-28\",\"2017-07-05\",\"2017-07-07\",\"2017-07-10\",\"2017-07-11\",\"2017-07-12\",\"2017-07-13\",\"2017-07-14\",\"2017-07-17\",\"2017-07-18\",\"2017-07-19\",\"2017-07-21\",\"2017-07-24\",\"2017-07-28\",\"2017-08-07\",\"2017-08-09\",\"2017-08-11\",\"2017-08-14\",\"2017-08-21\",\"2017-08-22\",\"2017-08-23\",\"2017-08-29\",\"2017-08-30\",\"2017-08-31\",\"2017-09-06\",\"2017-09-08\",\"2017-09-11\",\"2017-09-12\",\"2017-09-13\",\"2017-09-14\",\"2017-09-15\",\"2017-09-18\",\"2017-09-22\",\"2017-09-27\",\"2017-09-28\",\"2017-09-29\",\"2017-10-02\",\"2017-10-03\",\"2017-10-04\",\"2017-10-05\",\"2017-10-06\",\"2017-10-10\",\"2017-10-11\",\"2017-10-16\",\"2017-10-17\",\"2017-10-19\",\"2017-10-20\",\"2017-10-27\",\"2017-11-02\",\"2017-11-03\",\"2017-11-06\",\"2017-11-08\",\"2017-11-09\",\"2017-11-10\",\"2017-11-13\",\"2017-11-14\",\"2017-11-16\",\"2017-11-20\",\"2017-11-21\",\"2017-11-24\",\"2017-11-28\",\"2017-11-30\",\"2017-12-06\",\"2017-12-07\",\"2017-12-08\",\"2017-12-11\",\"2017-12-12\",\"2017-12-15\",\"2017-12-18\",\"2017-12-26\",\"2018-01-02\",\"2018-01-03\",\"2018-01-04\",\"2018-01-05\",\"2018-01-08\",\"2018-01-09\",\"2018-01-10\",\"2018-01-11\",\"2018-01-12\",\"2018-01-17\",\"2018-01-19\",\"2018-01-22\",\"2018-01-23\",\"2018-01-26\",\"2018-02-01\",\"2018-02-06\",\"2018-02-09\",\"2018-02-12\",\"2018-02-13\",\"2018-02-14\",\"2018-02-15\",\"2018-02-16\",\"2018-02-23\",\"2018-02-26\",\"2018-03-02\",\"2018-03-05\",\"2018-03-07\",\"2018-03-08\",\"2018-03-09\",\"2018-03-20\",\"2018-03-26\",\"2018-03-29\",\"2018-04-03\",\"2018-04-04\",\"2018-04-05\",\"2018-04-10\",\"2018-04-11\",\"2018-04-12\",\"2018-04-16\",\"2018-04-17\",\"2018-04-25\",\"2018-04-26\",\"2018-05-01\",\"2018-05-03\",\"2018-05-04\",\"2018-05-07\",\"2018-05-08\",\"2018-05-09\",\"2018-05-10\",\"2018-05-11\"]}},\"id\":\"ead80ec6-366d-4db7-a5c4-e02113acc14b\",\"type\":\"ColumnDataSource\"},{\"attributes\":{\"callback\":null,\"column_names\":[\"bottom\",\"top\",\"x\"],\"data\":{\"bottom\":{\"__ndarray__\":\"VFInoImoa0BUUiegiahrQOAtkKD4oWtAejarPleXa0CpE9BE2J5rQIPAyqFFAmxAEOm3rwP3a0ACmggbnsprQH/7OnDOzGtAVTAqqRP2a0B0tRX7y6psQCZTBaOS4GxA4QuTqYLhbEBvEoPAyhltQAdfmEwV8mxAak3zjlPkbEDZPXlYqAdtQNBE2PD07mxA4zYawFsgbUAlBoGVQxNtQHBfB84ZC21AxLEubqOrbEDLEMe6uK9sQPCFyVTB6mxAJ6CJsOHdbEBRa5p3nMxsQC6QoPgx3mxA7C+7Jw+1bEAX2c73U4VsQKMjufyHomxAylTBqKTGbEAyVTAqqRdtQOcdp+hIPm1AdCSX/5BEbUCxv+yePDRtQJZDi2znSW1Aj1N0JJdJbUAHzhlR2mVtQG3n+6nxXm1AKjqSy39QbUAwuycPC3NtQH4dOGdE7WxA6+I2GsCdbUBv8IXJVNVtQKTfvg6c221AlrIMcaz1bUDjx5i7luhtQNGRXP5D9G1ARpT2Bl/ybUCQoPgx5u5tQHBfB84Z/W1AwaikTkC/bUAnoImw4b9tQAdfmEwVzm1AwhcmUwXbbUAYJlMFo6ZtQL7BFyZTdW5AgZVDi2x/bkCIhVrTvH9uQBSuR+F6eG5A9P3UeOlqbkAqqRPQRHxuQOeMKO0NgG5Am+Ydp+hwbkAijnVxG39uQJ+rrdhfem5AXf5D+u0LbkC7Jw8LtWJuQDXvOEVHcG5AwoanV8r2bUB0tRX7y+ptQNDVVuwvE25AbHh6pSwlbkDMf0i/fSVuQEI+6NmsjG5ANIC3QIJUbkBL6gQ0EW5uQBsv3SQG925AzojS3uD5bkC/DpwzouRuQNxGA3gL1m5AJuSDns3abkBeS8gHPXVvQIXrUbgei29AHhZqTfOUb0CaCBueXq1vQIiFWtO8uW9Asi5uowHIb0DWVuwvu59vQIenV8oyqm9AeekmMQjOb0DGbTSAt9pvQH2utmJ/5W9AU5YhjnUFcEDgvg6cM8RvQKwcWmQ78W9AjSjtDb4WcEAukKD4MR5wQJM6AU2ERXBA0ZFc/kNhcEDVeOkmMVxwQOOlm8QgTXBAf2q8dJOFcEBF2PD0SnRwQOkmMQisoXBA6pWyDHGfcEDlYaHWNKhwQGUZ4lgXp3BARUdy+Q+kcEBAE2HD06xwQILix5i7nHBAVp+rrdg9cUCGONbFbWBxQISezarPoHFAeJyiI7micUAZ4lgXt7hxQB6n6EguinFAysNCrWmMcUC0yHa+nyVxQCsYldQJbnBAcT0K16OpcEAdyeU/pAlwQAdfmEwV5XBAIbByaJHPcEBMpgpGJdVwQJoIG55eFXFAS+oENBHpcEDZX3ZPHqpwQJEPejar/HBACyQofoxWcUASFD/G3DlxQFioNc07I3FAoWez6nMecUAzMzMzMyNxQKRwPQrX53BAexSuR+HmcEAfhetRuHpwQM3MzMzMIHBAmpmZmZlJcEDhehSuRz1wQOxRuB6FF3BA7FG4HoU7cEAAAAAAAFBwQGZmZmZmknBACtejcD3mcEAK16NwPc5wQPYoXI/CqXBAhetRuB6pcEBI4XoUrm9wQClcj8L1qHBAXI/C9SiIcEAzMzMzM3NwQA==\",\"dtype\":\"float64\",\"shape\":[152]},\"top\":{\"__ndarray__\":\"+FPjpZu2a0AJG55eKalrQFafq63Yo2tAfPKwUGu0a0AXSFD8GKVrQP8h/fZ1BGxAs+pztRUFbEBZF7fRAN5rQIbJVMGo4GtA8kHPZtUDbECjkjoBTbJsQMNkqmBU7mxAqFfKMsTnbECKjuTyH0JtQCEf9GxW/WxAbVZ9rrb8bEBxrIvbaBBtQMHKoUW292xA54wo7Q00bUB2cRsN4CltQCUGgZVDE21AW9O84xQhbUA1XrpJDMBsQAu1pnnH72xAcT0K16PsbECz6nO1FftsQDtwzojS3mxA3pOHhVrLbEAwKqkT0KhsQEOtad5xxGxAmggbnl7bbEA5RUdy+RdtQOCcEaW9QW1AlkOLbOdJbUCcoiO5/E1tQBzr4jYaTG1AFvvL7slLbUCbVZ+rrWhtQDBMpgpGb21AJLn8h/RTbUAN4C2QoIRtQL6fGi/dNG1Arthfdk+qbUB2Tx4WatltQIJzRpT28G1ATKYKRiUJbkD/snvysOxtQAisHFpkG25AjErqBDQBbkCmm8QgsPJtQNjw9EpZEG5APnlYqDX1bUAGEhQ/xghuQFMFo5I63W1AtaZ5xynwbUD+Q/rt69BtQAWjkjoBe25AumsJ+aCHbkBLWYY41oluQFg5tMh2kG5AVp+rrdh9bkBNhA1Pr4BuQKyL22gAgW5Ay6FFtvN7bkDYgXNGlIJuQHh6pSxDgm5AqFfKMsRbbkAB3gIJinFuQB3J5T+kdW5AfGEyVTBabkAbnl4py/BtQOwvuycPM25AlkOLbOcvbkDVCWgibDhuQDMzMzMzj25An6ut2F96bkBApN++DnpuQJJc/kP6925ALpCg+DH6bkDA7J48LPRuQMIXJlMF3W5A3SQGgZXlbkAm5IOezYpvQET67evAi29A5dAi2/mab0ACvAUSFLNvQB6n6Egu5W9AiGNd3EbJb0AkufyH9LtvQF3+Q/rttW9AcRsN4C3Yb0Dkg57NqttvQBTQRNjw9m9A8KfGSzcKcEBHcvkP6clvQHuDL0ym/G9AX5hMFYwacEA1XrpJDCFwQIzbaABvSnBAbqMBvAVmcEDtDb4wmX5wQMKGp1fKYHBAzH9Iv32KcEArhxbZzopwQLprCfmgtnBAMLsnDwuzcEBxPQrXo6lwQE2EDU+vqHBAFYxK6gSlcED5MeauJa1wQH/ZPXlYt3BAsp3vp8ZjcUBWn6ut2GVxQNobfGEyrnFAhjjWxW2wcUBrmnecosxxQCGwcmiRl3FAcT0K16OZcUDFILByaG9xQJhuEoPABXFAF7fRAN62cEDsL7snD69wQDJ3LSEf73BAjnVxGw3tcEBPHhZqTeBwQBDpt68DUHFA7MA5I0opcUC3Yn/ZPeVwQDxO0ZFcA3FAqvHSTWJhcUDdJAaBlWtxQFioNc07S3FAvJaQD3oscUAAAAAAAChxQJqZmZmZFXFAZmZmZmbucEDD9Shcj75wQB+F61G4gnBAH4XrUbiicEAAAAAAAExwQM3MzMzMaHBAH4XrUbh2cEBSuB6F61VwQMP1KFyPtnBA16NwPQrrcEBmZmZmZtpwQClcj8L1zHBAXI/C9Si0cEBI4XoUrrtwQAAAAAAAsHBAXI/C9Si0cEBcj8L1KIxwQA==\",\"dtype\":\"float64\",\"shape\":[152]},\"x\":[\"2017-01-09\",\"2017-01-10\",\"2017-01-17\",\"2017-01-19\",\"2017-01-23\",\"2017-01-26\",\"2017-01-27\",\"2017-01-30\",\"2017-02-01\",\"2017-02-07\",\"2017-02-16\",\"2017-02-23\",\"2017-02-28\",\"2017-03-02\",\"2017-03-07\",\"2017-03-08\",\"2017-03-10\",\"2017-03-14\",\"2017-03-16\",\"2017-03-17\",\"2017-03-20\",\"2017-03-21\",\"2017-03-24\",\"2017-03-31\",\"2017-04-03\",\"2017-04-05\",\"2017-04-10\",\"2017-04-12\",\"2017-04-13\",\"2017-04-19\",\"2017-04-21\",\"2017-04-24\",\"2017-04-26\",\"2017-04-27\",\"2017-04-28\",\"2017-05-02\",\"2017-05-04\",\"2017-05-08\",\"2017-05-09\",\"2017-05-12\",\"2017-05-16\",\"2017-05-17\",\"2017-05-31\",\"2017-06-06\",\"2017-06-09\",\"2017-06-14\",\"2017-06-16\",\"2017-06-20\",\"2017-06-21\",\"2017-06-22\",\"2017-06-26\",\"2017-06-27\",\"2017-06-29\",\"2017-06-30\",\"2017-07-03\",\"2017-07-06\",\"2017-07-20\",\"2017-07-25\",\"2017-07-26\",\"2017-07-27\",\"2017-07-31\",\"2017-08-01\",\"2017-08-02\",\"2017-08-03\",\"2017-08-04\",\"2017-08-08\",\"2017-08-10\",\"2017-08-15\",\"2017-08-16\",\"2017-08-17\",\"2017-08-18\",\"2017-08-24\",\"2017-08-25\",\"2017-08-28\",\"2017-09-01\",\"2017-09-05\",\"2017-09-07\",\"2017-09-19\",\"2017-09-20\",\"2017-09-21\",\"2017-09-25\",\"2017-09-26\",\"2017-10-09\",\"2017-10-12\",\"2017-10-13\",\"2017-10-18\",\"2017-10-23\",\"2017-10-24\",\"2017-10-25\",\"2017-10-26\",\"2017-10-30\",\"2017-10-31\",\"2017-11-01\",\"2017-11-07\",\"2017-11-15\",\"2017-11-17\",\"2017-11-22\",\"2017-11-27\",\"2017-11-29\",\"2017-12-01\",\"2017-12-04\",\"2017-12-05\",\"2017-12-13\",\"2017-12-14\",\"2017-12-19\",\"2017-12-20\",\"2017-12-21\",\"2017-12-22\",\"2017-12-27\",\"2017-12-28\",\"2017-12-29\",\"2018-01-16\",\"2018-01-18\",\"2018-01-24\",\"2018-01-25\",\"2018-01-29\",\"2018-01-30\",\"2018-01-31\",\"2018-02-02\",\"2018-02-05\",\"2018-02-07\",\"2018-02-08\",\"2018-02-20\",\"2018-02-21\",\"2018-02-22\",\"2018-02-27\",\"2018-02-28\",\"2018-03-01\",\"2018-03-06\",\"2018-03-12\",\"2018-03-13\",\"2018-03-14\",\"2018-03-15\",\"2018-03-16\",\"2018-03-19\",\"2018-03-21\",\"2018-03-22\",\"2018-03-23\",\"2018-03-27\",\"2018-03-28\",\"2018-04-02\",\"2018-04-06\",\"2018-04-09\",\"2018-04-13\",\"2018-04-18\",\"2018-04-19\",\"2018-04-20\",\"2018-04-23\",\"2018-04-24\",\"2018-04-27\",\"2018-04-30\",\"2018-05-02\"]}},\"id\":\"fde496b7-57b0-4100-8b8e-a550f273de02\",\"type\":\"ColumnDataSource\"},{\"attributes\":{\"below\":[{\"id\":\"cfd12a3d-0071-420b-8acb-5e74062e59ba\",\"type\":\"DatetimeAxis\"}],\"left\":[{\"id\":\"156e9aa3-8406-4e73-b913-b920816f5173\",\"type\":\"LinearAxis\"}],\"plot_width\":1000,\"renderers\":[{\"id\":\"cfd12a3d-0071-420b-8acb-5e74062e59ba\",\"type\":\"DatetimeAxis\"},{\"id\":\"5d45e59a-4e38-4271-9e4a-aeb0b14fe97a\",\"type\":\"Grid\"},{\"id\":\"156e9aa3-8406-4e73-b913-b920816f5173\",\"type\":\"LinearAxis\"},{\"id\":\"67b98a47-0667-4359-bcda-f4984bb511be\",\"type\":\"Grid\"},{\"id\":\"c42dff0d-ee90-4958-81d4-074d105baf6b\",\"type\":\"BoxAnnotation\"},{\"id\":\"d1b205b3-b1c8-495e-a3fc-0ebc23ec1046\",\"type\":\"GlyphRenderer\"},{\"id\":\"9839ace0-c5b3-4201-b792-a308509003ba\",\"type\":\"GlyphRenderer\"},{\"id\":\"7a48ab51-e7df-4313-917d-1365d56cf330\",\"type\":\"GlyphRenderer\"}],\"title\":{\"id\":\"1e79ba4e-8975-4e40-8501-bce790511548\",\"type\":\"Title\"},\"tool_events\":{\"id\":\"a24bdc51-b961-4877-b7b5-a6afae70a718\",\"type\":\"ToolEvents\"},\"toolbar\":{\"id\":\"3eae950e-b3e4-4a2f-9906-b2cea8e4e187\",\"type\":\"Toolbar\"},\"x_range\":{\"id\":\"2c27b65e-433e-4643-b581-1178fe656e20\",\"type\":\"DataRange1d\"},\"y_range\":{\"id\":\"69ccb6de-ff06-4132-962f-0588a7548449\",\"type\":\"DataRange1d\"}},\"id\":\"d8479e2c-9c00-47ce-80bf-5993dc48bf46\",\"subtype\":\"Figure\",\"type\":\"Plot\"},{\"attributes\":{\"formatter\":{\"id\":\"58c401f5-dace-4611-a585-ac4ca3b1099e\",\"type\":\"BasicTickFormatter\"},\"plot\":{\"id\":\"d8479e2c-9c00-47ce-80bf-5993dc48bf46\",\"subtype\":\"Figure\",\"type\":\"Plot\"},\"ticker\":{\"id\":\"9d2e5a7f-dbe0-4dc0-a001-d41cdab05b49\",\"type\":\"BasicTicker\"}},\"id\":\"156e9aa3-8406-4e73-b913-b920816f5173\",\"type\":\"LinearAxis\"},{\"attributes\":{\"base\":60,\"mantissas\":[1,2,5,10,15,20,30],\"max_interval\":1800000.0,\"min_interval\":1000.0,\"num_minor_ticks\":0},\"id\":\"b574703f-31dc-4bcf-bed7-50bef5754b76\",\"type\":\"AdaptiveTicker\"},{\"attributes\":{\"months\":[0,2,4,6,8,10]},\"id\":\"db160993-4d86-45d4-b408-7604b3172c3c\",\"type\":\"MonthsTicker\"},{\"attributes\":{\"months\":[0,6]},\"id\":\"9231910e-c876-473a-9fed-c644dc483b38\",\"type\":\"MonthsTicker\"},{\"attributes\":{\"bottom\":{\"field\":\"bottom\"},\"fill_alpha\":{\"value\":0.1},\"fill_color\":{\"value\":\"#1f77b4\"},\"line_alpha\":{\"value\":0.1},\"line_color\":{\"value\":\"#1f77b4\"},\"top\":{\"field\":\"top\"},\"width\":{\"value\":43200000},\"x\":{\"field\":\"x\"}},\"id\":\"004f61d3-d5a7-4a86-a415-975b2dbcb3ea\",\"type\":\"VBar\"},{\"attributes\":{\"bottom\":{\"field\":\"bottom\"},\"fill_color\":{\"value\":\"#1ED837\"},\"top\":{\"field\":\"top\"},\"width\":{\"value\":43200000},\"x\":{\"field\":\"x\"}},\"id\":\"96b2e3e8-4261-4df6-be32-fca506f38a9e\",\"type\":\"VBar\"},{\"attributes\":{},\"id\":\"7bc699d0-b160-483f-8dcf-6632b98d21fb\",\"type\":\"YearsTicker\"},{\"attributes\":{\"dimension\":1,\"grid_line_alpha\":{\"value\":0.3},\"plot\":{\"id\":\"d8479e2c-9c00-47ce-80bf-5993dc48bf46\",\"subtype\":\"Figure\",\"type\":\"Plot\"},\"ticker\":{\"id\":\"9d2e5a7f-dbe0-4dc0-a001-d41cdab05b49\",\"type\":\"BasicTicker\"}},\"id\":\"67b98a47-0667-4359-bcda-f4984bb511be\",\"type\":\"Grid\"},{\"attributes\":{\"callback\":null,\"column_names\":[\"y0\",\"x0\",\"x1\",\"y1\"],\"data\":{\"x0\":[\"2017-01-03\",\"2017-01-04\",\"2017-01-05\",\"2017-01-06\",\"2017-01-09\",\"2017-01-10\",\"2017-01-11\",\"2017-01-12\",\"2017-01-13\",\"2017-01-17\",\"2017-01-18\",\"2017-01-19\",\"2017-01-20\",\"2017-01-23\",\"2017-01-24\",\"2017-01-25\",\"2017-01-26\",\"2017-01-27\",\"2017-01-30\",\"2017-01-31\",\"2017-02-01\",\"2017-02-02\",\"2017-02-03\",\"2017-02-06\",\"2017-02-07\",\"2017-02-08\",\"2017-02-09\",\"2017-02-10\",\"2017-02-13\",\"2017-02-14\",\"2017-02-15\",\"2017-02-16\",\"2017-02-17\",\"2017-02-21\",\"2017-02-22\",\"2017-02-23\",\"2017-02-24\",\"2017-02-27\",\"2017-02-28\",\"2017-03-01\",\"2017-03-02\",\"2017-03-03\",\"2017-03-06\",\"2017-03-07\",\"2017-03-08\",\"2017-03-09\",\"2017-03-10\",\"2017-03-13\",\"2017-03-14\",\"2017-03-15\",\"2017-03-16\",\"2017-03-17\",\"2017-03-20\",\"2017-03-21\",\"2017-03-22\",\"2017-03-23\",\"2017-03-24\",\"2017-03-27\",\"2017-03-28\",\"2017-03-29\",\"2017-03-30\",\"2017-03-31\",\"2017-04-03\",\"2017-04-04\",\"2017-04-05\",\"2017-04-06\",\"2017-04-07\",\"2017-04-10\",\"2017-04-11\",\"2017-04-12\",\"2017-04-13\",\"2017-04-17\",\"2017-04-18\",\"2017-04-19\",\"2017-04-20\",\"2017-04-21\",\"2017-04-24\",\"2017-04-25\",\"2017-04-26\",\"2017-04-27\",\"2017-04-28\",\"2017-05-01\",\"2017-05-02\",\"2017-05-03\",\"2017-05-04\",\"2017-05-05\",\"2017-05-08\",\"2017-05-09\",\"2017-05-10\",\"2017-05-11\",\"2017-05-12\",\"2017-05-15\",\"2017-05-16\",\"2017-05-17\",\"2017-05-18\",\"2017-05-19\",\"2017-05-22\",\"2017-05-23\",\"2017-05-24\",\"2017-05-25\",\"2017-05-26\",\"2017-05-30\",\"2017-05-31\",\"2017-06-01\",\"2017-06-02\",\"2017-06-05\",\"2017-06-06\",\"2017-06-07\",\"2017-06-08\",\"2017-06-09\",\"2017-06-12\",\"2017-06-13\",\"2017-06-14\",\"2017-06-15\",\"2017-06-16\",\"2017-06-19\",\"2017-06-20\",\"2017-06-21\",\"2017-06-22\",\"2017-06-23\",\"2017-06-26\",\"2017-06-27\",\"2017-06-28\",\"2017-06-29\",\"2017-06-30\",\"2017-07-03\",\"2017-07-05\",\"2017-07-06\",\"2017-07-07\",\"2017-07-10\",\"2017-07-11\",\"2017-07-12\",\"2017-07-13\",\"2017-07-14\",\"2017-07-17\",\"2017-07-18\",\"2017-07-19\",\"2017-07-20\",\"2017-07-21\",\"2017-07-24\",\"2017-07-25\",\"2017-07-26\",\"2017-07-27\",\"2017-07-28\",\"2017-07-31\",\"2017-08-01\",\"2017-08-02\",\"2017-08-03\",\"2017-08-04\",\"2017-08-07\",\"2017-08-08\",\"2017-08-09\",\"2017-08-10\",\"2017-08-11\",\"2017-08-14\",\"2017-08-15\",\"2017-08-16\",\"2017-08-17\",\"2017-08-18\",\"2017-08-21\",\"2017-08-22\",\"2017-08-23\",\"2017-08-24\",\"2017-08-25\",\"2017-08-28\",\"2017-08-29\",\"2017-08-30\",\"2017-08-31\",\"2017-09-01\",\"2017-09-05\",\"2017-09-06\",\"2017-09-07\",\"2017-09-08\",\"2017-09-11\",\"2017-09-12\",\"2017-09-13\",\"2017-09-14\",\"2017-09-15\",\"2017-09-18\",\"2017-09-19\",\"2017-09-20\",\"2017-09-21\",\"2017-09-22\",\"2017-09-25\",\"2017-09-26\",\"2017-09-27\",\"2017-09-28\",\"2017-09-29\",\"2017-10-02\",\"2017-10-03\",\"2017-10-04\",\"2017-10-05\",\"2017-10-06\",\"2017-10-09\",\"2017-10-10\",\"2017-10-11\",\"2017-10-12\",\"2017-10-13\",\"2017-10-16\",\"2017-10-17\",\"2017-10-18\",\"2017-10-19\",\"2017-10-20\",\"2017-10-23\",\"2017-10-24\",\"2017-10-25\",\"2017-10-26\",\"2017-10-27\",\"2017-10-30\",\"2017-10-31\",\"2017-11-01\",\"2017-11-02\",\"2017-11-03\",\"2017-11-06\",\"2017-11-07\",\"2017-11-08\",\"2017-11-09\",\"2017-11-10\",\"2017-11-13\",\"2017-11-14\",\"2017-11-15\",\"2017-11-16\",\"2017-11-17\",\"2017-11-20\",\"2017-11-21\",\"2017-11-22\",\"2017-11-24\",\"2017-11-27\",\"2017-11-28\",\"2017-11-29\",\"2017-11-30\",\"2017-12-01\",\"2017-12-04\",\"2017-12-05\",\"2017-12-06\",\"2017-12-07\",\"2017-12-08\",\"2017-12-11\",\"2017-12-12\",\"2017-12-13\",\"2017-12-14\",\"2017-12-15\",\"2017-12-18\",\"2017-12-19\",\"2017-12-20\",\"2017-12-21\",\"2017-12-22\",\"2017-12-26\",\"2017-12-27\",\"2017-12-28\",\"2017-12-29\",\"2018-01-02\",\"2018-01-03\",\"2018-01-04\",\"2018-01-05\",\"2018-01-08\",\"2018-01-09\",\"2018-01-10\",\"2018-01-11\",\"2018-01-12\",\"2018-01-16\",\"2018-01-17\",\"2018-01-18\",\"2018-01-19\",\"2018-01-22\",\"2018-01-23\",\"2018-01-24\",\"2018-01-25\",\"2018-01-26\",\"2018-01-29\",\"2018-01-30\",\"2018-01-31\",\"2018-02-01\",\"2018-02-02\",\"2018-02-05\",\"2018-02-06\",\"2018-02-07\",\"2018-02-08\",\"2018-02-09\",\"2018-02-12\",\"2018-02-13\",\"2018-02-14\",\"2018-02-15\",\"2018-02-16\",\"2018-02-20\",\"2018-02-21\",\"2018-02-22\",\"2018-02-23\",\"2018-02-26\",\"2018-02-27\",\"2018-02-28\",\"2018-03-01\",\"2018-03-02\",\"2018-03-05\",\"2018-03-06\",\"2018-03-07\",\"2018-03-08\",\"2018-03-09\",\"2018-03-12\",\"2018-03-13\",\"2018-03-14\",\"2018-03-15\",\"2018-03-16\",\"2018-03-19\",\"2018-03-20\",\"2018-03-21\",\"2018-03-22\",\"2018-03-23\",\"2018-03-26\",\"2018-03-27\",\"2018-03-28\",\"2018-03-29\",\"2018-04-02\",\"2018-04-03\",\"2018-04-04\",\"2018-04-05\",\"2018-04-06\",\"2018-04-09\",\"2018-04-10\",\"2018-04-11\",\"2018-04-12\",\"2018-04-13\",\"2018-04-16\",\"2018-04-17\",\"2018-04-18\",\"2018-04-19\",\"2018-04-20\",\"2018-04-23\",\"2018-04-24\",\"2018-04-25\",\"2018-04-26\",\"2018-04-27\",\"2018-04-30\",\"2018-05-01\",\"2018-05-02\",\"2018-05-03\",\"2018-05-04\",\"2018-05-07\",\"2018-05-08\",\"2018-05-09\",\"2018-05-10\",\"2018-05-11\"],\"x1\":[\"2017-01-03\",\"2017-01-04\",\"2017-01-05\",\"2017-01-06\",\"2017-01-09\",\"2017-01-10\",\"2017-01-11\",\"2017-01-12\",\"2017-01-13\",\"2017-01-17\",\"2017-01-18\",\"2017-01-19\",\"2017-01-20\",\"2017-01-23\",\"2017-01-24\",\"2017-01-25\",\"2017-01-26\",\"2017-01-27\",\"2017-01-30\",\"2017-01-31\",\"2017-02-01\",\"2017-02-02\",\"2017-02-03\",\"2017-02-06\",\"2017-02-07\",\"2017-02-08\",\"2017-02-09\",\"2017-02-10\",\"2017-02-13\",\"2017-02-14\",\"2017-02-15\",\"2017-02-16\",\"2017-02-17\",\"2017-02-21\",\"2017-02-22\",\"2017-02-23\",\"2017-02-24\",\"2017-02-27\",\"2017-02-28\",\"2017-03-01\",\"2017-03-02\",\"2017-03-03\",\"2017-03-06\",\"2017-03-07\",\"2017-03-08\",\"2017-03-09\",\"2017-03-10\",\"2017-03-13\",\"2017-03-14\",\"2017-03-15\",\"2017-03-16\",\"2017-03-17\",\"2017-03-20\",\"2017-03-21\",\"2017-03-22\",\"2017-03-23\",\"2017-03-24\",\"2017-03-27\",\"2017-03-28\",\"2017-03-29\",\"2017-03-30\",\"2017-03-31\",\"2017-04-03\",\"2017-04-04\",\"2017-04-05\",\"2017-04-06\",\"2017-04-07\",\"2017-04-10\",\"2017-04-11\",\"2017-04-12\",\"2017-04-13\",\"2017-04-17\",\"2017-04-18\",\"2017-04-19\",\"2017-04-20\",\"2017-04-21\",\"2017-04-24\",\"2017-04-25\",\"2017-04-26\",\"2017-04-27\",\"2017-04-28\",\"2017-05-01\",\"2017-05-02\",\"2017-05-03\",\"2017-05-04\",\"2017-05-05\",\"2017-05-08\",\"2017-05-09\",\"2017-05-10\",\"2017-05-11\",\"2017-05-12\",\"2017-05-15\",\"2017-05-16\",\"2017-05-17\",\"2017-05-18\",\"2017-05-19\",\"2017-05-22\",\"2017-05-23\",\"2017-05-24\",\"2017-05-25\",\"2017-05-26\",\"2017-05-30\",\"2017-05-31\",\"2017-06-01\",\"2017-06-02\",\"2017-06-05\",\"2017-06-06\",\"2017-06-07\",\"2017-06-08\",\"2017-06-09\",\"2017-06-12\",\"2017-06-13\",\"2017-06-14\",\"2017-06-15\",\"2017-06-16\",\"2017-06-19\",\"2017-06-20\",\"2017-06-21\",\"2017-06-22\",\"2017-06-23\",\"2017-06-26\",\"2017-06-27\",\"2017-06-28\",\"2017-06-29\",\"2017-06-30\",\"2017-07-03\",\"2017-07-05\",\"2017-07-06\",\"2017-07-07\",\"2017-07-10\",\"2017-07-11\",\"2017-07-12\",\"2017-07-13\",\"2017-07-14\",\"2017-07-17\",\"2017-07-18\",\"2017-07-19\",\"2017-07-20\",\"2017-07-21\",\"2017-07-24\",\"2017-07-25\",\"2017-07-26\",\"2017-07-27\",\"2017-07-28\",\"2017-07-31\",\"2017-08-01\",\"2017-08-02\",\"2017-08-03\",\"2017-08-04\",\"2017-08-07\",\"2017-08-08\",\"2017-08-09\",\"2017-08-10\",\"2017-08-11\",\"2017-08-14\",\"2017-08-15\",\"2017-08-16\",\"2017-08-17\",\"2017-08-18\",\"2017-08-21\",\"2017-08-22\",\"2017-08-23\",\"2017-08-24\",\"2017-08-25\",\"2017-08-28\",\"2017-08-29\",\"2017-08-30\",\"2017-08-31\",\"2017-09-01\",\"2017-09-05\",\"2017-09-06\",\"2017-09-07\",\"2017-09-08\",\"2017-09-11\",\"2017-09-12\",\"2017-09-13\",\"2017-09-14\",\"2017-09-15\",\"2017-09-18\",\"2017-09-19\",\"2017-09-20\",\"2017-09-21\",\"2017-09-22\",\"2017-09-25\",\"2017-09-26\",\"2017-09-27\",\"2017-09-28\",\"2017-09-29\",\"2017-10-02\",\"2017-10-03\",\"2017-10-04\",\"2017-10-05\",\"2017-10-06\",\"2017-10-09\",\"2017-10-10\",\"2017-10-11\",\"2017-10-12\",\"2017-10-13\",\"2017-10-16\",\"2017-10-17\",\"2017-10-18\",\"2017-10-19\",\"2017-10-20\",\"2017-10-23\",\"2017-10-24\",\"2017-10-25\",\"2017-10-26\",\"2017-10-27\",\"2017-10-30\",\"2017-10-31\",\"2017-11-01\",\"2017-11-02\",\"2017-11-03\",\"2017-11-06\",\"2017-11-07\",\"2017-11-08\",\"2017-11-09\",\"2017-11-10\",\"2017-11-13\",\"2017-11-14\",\"2017-11-15\",\"2017-11-16\",\"2017-11-17\",\"2017-11-20\",\"2017-11-21\",\"2017-11-22\",\"2017-11-24\",\"2017-11-27\",\"2017-11-28\",\"2017-11-29\",\"2017-11-30\",\"2017-12-01\",\"2017-12-04\",\"2017-12-05\",\"2017-12-06\",\"2017-12-07\",\"2017-12-08\",\"2017-12-11\",\"2017-12-12\",\"2017-12-13\",\"2017-12-14\",\"2017-12-15\",\"2017-12-18\",\"2017-12-19\",\"2017-12-20\",\"2017-12-21\",\"2017-12-22\",\"2017-12-26\",\"2017-12-27\",\"2017-12-28\",\"2017-12-29\",\"2018-01-02\",\"2018-01-03\",\"2018-01-04\",\"2018-01-05\",\"2018-01-08\",\"2018-01-09\",\"2018-01-10\",\"2018-01-11\",\"2018-01-12\",\"2018-01-16\",\"2018-01-17\",\"2018-01-18\",\"2018-01-19\",\"2018-01-22\",\"2018-01-23\",\"2018-01-24\",\"2018-01-25\",\"2018-01-26\",\"2018-01-29\",\"2018-01-30\",\"2018-01-31\",\"2018-02-01\",\"2018-02-02\",\"2018-02-05\",\"2018-02-06\",\"2018-02-07\",\"2018-02-08\",\"2018-02-09\",\"2018-02-12\",\"2018-02-13\",\"2018-02-14\",\"2018-02-15\",\"2018-02-16\",\"2018-02-20\",\"2018-02-21\",\"2018-02-22\",\"2018-02-23\",\"2018-02-26\",\"2018-02-27\",\"2018-02-28\",\"2018-03-01\",\"2018-03-02\",\"2018-03-05\",\"2018-03-06\",\"2018-03-07\",\"2018-03-08\",\"2018-03-09\",\"2018-03-12\",\"2018-03-13\",\"2018-03-14\",\"2018-03-15\",\"2018-03-16\",\"2018-03-19\",\"2018-03-20\",\"2018-03-21\",\"2018-03-22\",\"2018-03-23\",\"2018-03-26\",\"2018-03-27\",\"2018-03-28\",\"2018-03-29\",\"2018-04-02\",\"2018-04-03\",\"2018-04-04\",\"2018-04-05\",\"2018-04-06\",\"2018-04-09\",\"2018-04-10\",\"2018-04-11\",\"2018-04-12\",\"2018-04-13\",\"2018-04-16\",\"2018-04-17\",\"2018-04-18\",\"2018-04-19\",\"2018-04-20\",\"2018-04-23\",\"2018-04-24\",\"2018-04-25\",\"2018-04-26\",\"2018-04-27\",\"2018-04-30\",\"2018-05-01\",\"2018-05-02\",\"2018-05-03\",\"2018-05-04\",\"2018-05-07\",\"2018-05-08\",\"2018-05-09\",\"2018-05-10\",\"2018-05-11\"],\"y0\":{\"__ndarray__\":\"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\",\"dtype\":\"float64\",\"shape\":[342]},\"y1\":{\"__ndarray__\":\"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\",\"dtype\":\"float64\",\"shape\":[342]}}},\"id\":\"1befdb24-076d-4081-846b-bf9a8ed42ac5\",\"type\":\"ColumnDataSource\"},{\"attributes\":{\"data_source\":{\"id\":\"ead80ec6-366d-4db7-a5c4-e02113acc14b\",\"type\":\"ColumnDataSource\"},\"glyph\":{\"id\":\"96b2e3e8-4261-4df6-be32-fca506f38a9e\",\"type\":\"VBar\"},\"hover_glyph\":null,\"muted_glyph\":null,\"nonselection_glyph\":{\"id\":\"004f61d3-d5a7-4a86-a415-975b2dbcb3ea\",\"type\":\"VBar\"},\"selection_glyph\":null},\"id\":\"9839ace0-c5b3-4201-b792-a308509003ba\",\"type\":\"GlyphRenderer\"},{\"attributes\":{\"bottom\":{\"field\":\"bottom\"},\"fill_color\":{\"value\":\"#F2583E\"},\"top\":{\"field\":\"top\"},\"width\":{\"value\":43200000},\"x\":{\"field\":\"x\"}},\"id\":\"7e167b63-8bbd-4a47-af41-30aed6c42833\",\"type\":\"VBar\"},{\"attributes\":{\"plot\":{\"id\":\"d8479e2c-9c00-47ce-80bf-5993dc48bf46\",\"subtype\":\"Figure\",\"type\":\"Plot\"}},\"id\":\"90f53380-e087-49a3-a24f-e4844529c35d\",\"type\":\"SaveTool\"},{\"attributes\":{\"data_source\":{\"id\":\"1befdb24-076d-4081-846b-bf9a8ed42ac5\",\"type\":\"ColumnDataSource\"},\"glyph\":{\"id\":\"3cdea173-7dc7-4453-b0c5-a2b97bc5f8e8\",\"type\":\"Segment\"},\"hover_glyph\":null,\"muted_glyph\":null,\"nonselection_glyph\":{\"id\":\"68daebe4-ab8f-4b08-b49d-7822676269ff\",\"type\":\"Segment\"},\"selection_glyph\":null},\"id\":\"d1b205b3-b1c8-495e-a3fc-0ebc23ec1046\",\"type\":\"GlyphRenderer\"},{\"attributes\":{\"formatter\":{\"id\":\"6bfe0d1c-e2f1-4f67-9fc3-d665f28cc213\",\"type\":\"DatetimeTickFormatter\"},\"major_label_orientation\":0.7853981633974483,\"plot\":{\"id\":\"d8479e2c-9c00-47ce-80bf-5993dc48bf46\",\"subtype\":\"Figure\",\"type\":\"Plot\"},\"ticker\":{\"id\":\"d83612cc-1296-45a9-ad6b-966479c0c708\",\"type\":\"DatetimeTicker\"}},\"id\":\"cfd12a3d-0071-420b-8acb-5e74062e59ba\",\"type\":\"DatetimeAxis\"},{\"attributes\":{\"plot\":null,\"text\":\"SPY Candlestick\"},\"id\":\"1e79ba4e-8975-4e40-8501-bce790511548\",\"type\":\"Title\"},{\"attributes\":{\"callback\":null},\"id\":\"2c27b65e-433e-4643-b581-1178fe656e20\",\"type\":\"DataRange1d\"},{\"attributes\":{\"active_drag\":\"auto\",\"active_scroll\":\"auto\",\"active_tap\":\"auto\",\"tools\":[{\"id\":\"2916c2e9-d8db-4d5d-a494-eab203d233e7\",\"type\":\"PanTool\"},{\"id\":\"31f4c4a0-f1b9-477b-88bb-68d83ebea02d\",\"type\":\"WheelZoomTool\"},{\"id\":\"d0d37ff0-5da6-4f5e-81ab-60e5052672e3\",\"type\":\"BoxZoomTool\"},{\"id\":\"b4b5e32f-bebf-4da3-a13b-8cab9e39a831\",\"type\":\"ResetTool\"},{\"id\":\"90f53380-e087-49a3-a24f-e4844529c35d\",\"type\":\"SaveTool\"}]},\"id\":\"3eae950e-b3e4-4a2f-9906-b2cea8e4e187\",\"type\":\"Toolbar\"}],\"root_ids\":[\"d8479e2c-9c00-47ce-80bf-5993dc48bf46\"]},\"title\":\"Bokeh Application\",\"version\":\"0.12.5\"}};\n",
       "              var render_items = [{\"docid\":\"b1bfbdb7-a041-4370-95f6-5c84acaf071b\",\"elementid\":\"3233d8eb-4215-4d6c-9b93-300bbe8b34ae\",\"modelid\":\"d8479e2c-9c00-47ce-80bf-5993dc48bf46\"}];\n",
       "              \n",
       "              Bokeh.embed.embed_items(docs_json, render_items);\n",
       "            });\n",
       "          };\n",
       "          if (document.readyState != \"loading\") fn();\n",
       "          else document.addEventListener(\"DOMContentLoaded\", fn);\n",
       "        })();\n",
       "        \n",
       "        </script>\n",
       "    </body>\n",
       "</html>"
      ],
      "text/plain": [
       "<IPython.core.display.HTML object>"
      ]
     },
     "execution_count": 13,
     "metadata": {},
     "output_type": "execute_result"
    }
   ],
   "source": [
    "# This is more of a 'helping' code that will help us to visualise the candlestick plot on our 'Quantra' portal\n",
    "\n",
    "# Please run this twice or thrice if it gives an error in the first run \n",
    "\n",
    "from IPython.display import HTML\n",
    "HTML(\"./candlestick.html\")"
   ]
  },
  {
   "cell_type": "markdown",
   "metadata": {},
   "source": [
    "### In the upcoming iPython notebook:\n",
    "\n",
    "We will learn about Functions in Python\n",
    "\n",
    "Happy Learning!"
   ]
  }
 ],
 "metadata": {
  "kernelspec": {
   "display_name": "Python 2",
   "language": "python",
   "name": "python2"
  },
  "language_info": {
   "codemirror_mode": {
    "name": "ipython",
    "version": 3
   },
   "file_extension": ".py",
   "mimetype": "text/x-python",
   "name": "python",
   "nbconvert_exporter": "python",
   "pygments_lexer": "ipython3",
   "version": "3.6.7"
  }
 },
 "nbformat": 4,
 "nbformat_minor": 2
}
