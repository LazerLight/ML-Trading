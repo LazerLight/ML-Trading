{
 "cells": [
  {
   "cell_type": "code",
   "execution_count": 1,
   "metadata": {
    "collapsed": true
   },
   "outputs": [],
   "source": [
    "import pandas as pd\n",
    "import matplotlib.pyplot as plt\n",
    "import numpy as np\n",
    "from datetime import datetime as dt\n",
    "from sklearn.ensemble import RandomForestClassifier\n",
    "from sklearn.preprocessing import Imputer, RobustScaler\n",
    "from sklearn.pipeline import make_pipeline\n",
    "from sklearn.metrics import accuracy_score, recall_score, precision_score, f1_score\n",
    "from sklearn.model_selection import GridSearchCV\n",
    "import lightgbm as lgb"
   ]
  },
  {
   "cell_type": "markdown",
   "metadata": {},
   "source": [
    "### Gather Data"
   ]
  },
  {
   "cell_type": "code",
   "execution_count": 2,
   "metadata": {},
   "outputs": [
    {
     "data": {
      "text/plain": [
       "(308634, 203)"
      ]
     },
     "execution_count": 2,
     "metadata": {},
     "output_type": "execute_result"
    }
   ],
   "source": [
    "df = pd.read_csv('MLClassData.csv')\n",
    "df.shape"
   ]
  },
  {
   "cell_type": "markdown",
   "metadata": {},
   "source": [
    "### Visualize Data ###"
   ]
  },
  {
   "cell_type": "code",
   "execution_count": 5,
   "metadata": {},
   "outputs": [
    {
     "data": {
      "text/html": [
       "<div>\n",
       "<style>\n",
       "    .dataframe thead tr:only-child th {\n",
       "        text-align: right;\n",
       "    }\n",
       "\n",
       "    .dataframe thead th {\n",
       "        text-align: left;\n",
       "    }\n",
       "\n",
       "    .dataframe tbody tr th {\n",
       "        vertical-align: top;\n",
       "    }\n",
       "</style>\n",
       "<table border=\"1\" class=\"dataframe\">\n",
       "  <thead>\n",
       "    <tr style=\"text-align: right;\">\n",
       "      <th></th>\n",
       "      <th>d1w3</th>\n",
       "      <th>d1w3pmdiff</th>\n",
       "      <th>dm__15range-dm__1close2diff</th>\n",
       "      <th>dvwapday1_m5vol</th>\n",
       "      <th>dvwapday_accvol</th>\n",
       "      <th>dvwapday_accvolpmdiff</th>\n",
       "      <th>gapatr</th>\n",
       "      <th>high10atr</th>\n",
       "      <th>high10atrpmbetadiff</th>\n",
       "      <th>high20drange</th>\n",
       "    </tr>\n",
       "  </thead>\n",
       "  <tbody>\n",
       "    <tr>\n",
       "      <th>0</th>\n",
       "      <td>1.749994</td>\n",
       "      <td>-3.583335</td>\n",
       "      <td>2.959070</td>\n",
       "      <td>-3.270143</td>\n",
       "      <td>-0.533356</td>\n",
       "      <td>-25.701912</td>\n",
       "      <td>1.188645</td>\n",
       "      <td>1.805533</td>\n",
       "      <td>1.769799</td>\n",
       "      <td>0.959334</td>\n",
       "    </tr>\n",
       "    <tr>\n",
       "      <th>1</th>\n",
       "      <td>1.749994</td>\n",
       "      <td>-3.583335</td>\n",
       "      <td>2.959070</td>\n",
       "      <td>-2.970276</td>\n",
       "      <td>-0.534154</td>\n",
       "      <td>-25.695157</td>\n",
       "      <td>1.188645</td>\n",
       "      <td>1.720273</td>\n",
       "      <td>1.684539</td>\n",
       "      <td>0.968693</td>\n",
       "    </tr>\n",
       "    <tr>\n",
       "      <th>2</th>\n",
       "      <td>6.499484</td>\n",
       "      <td>1.166155</td>\n",
       "      <td>3.705569</td>\n",
       "      <td>-20.245816</td>\n",
       "      <td>-1.105624</td>\n",
       "      <td>-1.696067</td>\n",
       "      <td>-0.093103</td>\n",
       "      <td>0.204828</td>\n",
       "      <td>0.199714</td>\n",
       "      <td>0.285713</td>\n",
       "    </tr>\n",
       "    <tr>\n",
       "      <th>3</th>\n",
       "      <td>0.255639</td>\n",
       "      <td>-5.077691</td>\n",
       "      <td>4.877921</td>\n",
       "      <td>-14.787942</td>\n",
       "      <td>-0.495554</td>\n",
       "      <td>-0.979505</td>\n",
       "      <td>0.402122</td>\n",
       "      <td>0.209805</td>\n",
       "      <td>0.148927</td>\n",
       "      <td>0.153846</td>\n",
       "    </tr>\n",
       "    <tr>\n",
       "      <th>4</th>\n",
       "      <td>0.255639</td>\n",
       "      <td>-5.077691</td>\n",
       "      <td>4.877921</td>\n",
       "      <td>-23.929751</td>\n",
       "      <td>-0.458448</td>\n",
       "      <td>-0.881268</td>\n",
       "      <td>0.402122</td>\n",
       "      <td>0.166096</td>\n",
       "      <td>0.148338</td>\n",
       "      <td>0.129354</td>\n",
       "    </tr>\n",
       "  </tbody>\n",
       "</table>\n",
       "</div>"
      ],
      "text/plain": [
       "       d1w3  d1w3pmdiff  dm__15range-dm__1close2diff  dvwapday1_m5vol  \\\n",
       "0  1.749994   -3.583335                     2.959070        -3.270143   \n",
       "1  1.749994   -3.583335                     2.959070        -2.970276   \n",
       "2  6.499484    1.166155                     3.705569       -20.245816   \n",
       "3  0.255639   -5.077691                     4.877921       -14.787942   \n",
       "4  0.255639   -5.077691                     4.877921       -23.929751   \n",
       "\n",
       "   dvwapday_accvol  dvwapday_accvolpmdiff    gapatr  high10atr  \\\n",
       "0        -0.533356             -25.701912  1.188645   1.805533   \n",
       "1        -0.534154             -25.695157  1.188645   1.720273   \n",
       "2        -1.105624              -1.696067 -0.093103   0.204828   \n",
       "3        -0.495554              -0.979505  0.402122   0.209805   \n",
       "4        -0.458448              -0.881268  0.402122   0.166096   \n",
       "\n",
       "   high10atrpmbetadiff  high20drange  \n",
       "0             1.769799      0.959334  \n",
       "1             1.684539      0.968693  \n",
       "2             0.199714      0.285713  \n",
       "3             0.148927      0.153846  \n",
       "4             0.148338      0.129354  "
      ]
     },
     "execution_count": 5,
     "metadata": {},
     "output_type": "execute_result"
    }
   ],
   "source": [
    "df.iloc[:5,20:30]"
   ]
  },
  {
   "cell_type": "code",
   "execution_count": 6,
   "metadata": {},
   "outputs": [
    {
     "data": {
      "text/plain": [
       "Index(['Unnamed: 0', 'Unnamed: 0.1', 'account', 'avg_min_dol_vol',\n",
       "       'avgminhigh', 'avgminlow', 'close1', 'close10', 'close11', 'close12',\n",
       "       ...\n",
       "       'matched_shares', 'medminhigh', 'medminlow', 'mtm_pl', 'q1minhigh',\n",
       "       'q1minlow', 'q3minhigh', 'q3minlow', 'symbol', 'vwap_close'],\n",
       "      dtype='object', length=203)"
      ]
     },
     "execution_count": 6,
     "metadata": {},
     "output_type": "execute_result"
    }
   ],
   "source": [
    "df.columns"
   ]
  },
  {
   "cell_type": "code",
   "execution_count": 8,
   "metadata": {},
   "outputs": [
    {
     "data": {
      "text/plain": [
       "['minscd3/minsd3rvold',\n",
       " 'minscd4/minsd1rvold',\n",
       " 'zl1_last-zmo_ema2/dailyrange',\n",
       " 'mdtwomean',\n",
       " 'minscd5-minsd5rvold',\n",
       " 'vdaily_range',\n",
       " 'zl1_last-zmo_midprice2/dailyrange',\n",
       " 'md1w6',\n",
       " 'gapatr',\n",
       " 'mdbw3',\n",
       " 'ztmins_from_close',\n",
       " 'high10atr',\n",
       " 'high20drange',\n",
       " 'mdbw1*beta',\n",
       " 'minscd5rvol/minsod5rvold',\n",
       " 'zmms_linearreg_slope_prev2-zms_tsf_prev0',\n",
       " 'zl1_daily_vwap-zdo_tema0/dailyrange',\n",
       " 'mweek4rangevol',\n",
       " 'minscd2',\n",
       " 'mweekrangevol',\n",
       " 'zdv_ad_change1pmdiff',\n",
       " 'zmdo_tema_change0/atr*zdm_fastkrsi_change1',\n",
       " 'mdtwmean',\n",
       " 'minscd2rvold/minsd0rvold',\n",
       " 'mdtwomax',\n",
       " 'mtd0d2_rvol',\n",
       " 'mgap',\n",
       " 'highlastt',\n",
       " 'mdbwomax',\n",
       " 'zms_linearreg0-zms_linearreg_change1',\n",
       " 'openvwaplast_rvol',\n",
       " 'avol',\n",
       " 'md1w9',\n",
       " 'zmms_stddev_prev2-zms_linearreg_slope_slope0',\n",
       " 'zdo_ema_change2/atr*zdm_cci2',\n",
       " 'mdbwmax',\n",
       " 'mdtwo4',\n",
       " 'mweek3rangeatr',\n",
       " 'mrvol',\n",
       " 'mtd0d1*accvol',\n",
       " 'mdtw1',\n",
       " 'vvwapopen_accvol',\n",
       " 'spreadday']"
      ]
     },
     "execution_count": 8,
     "metadata": {},
     "output_type": "execute_result"
    }
   ],
   "source": [
    "### Define Features to Train Model on ###\n",
    "features = list(pd.read_csv('FilteredClfFeatsBF100_50.csv')['Clf Features'])\n",
    "features"
   ]
  },
  {
   "cell_type": "code",
   "execution_count": 9,
   "metadata": {},
   "outputs": [
    {
     "name": "stdout",
     "output_type": "stream",
     "text": [
      "Data Types:\n"
     ]
    }
   ],
   "source": [
    "# Check type of each feature is float\n",
    "print('Data Types:')\n",
    "for i in features:\n",
    "    t = df[i].dtype\n",
    "    if t != float:\n",
    "        print(i, t)\n",
    "        features.remove(i)"
   ]
  },
  {
   "cell_type": "code",
   "execution_count": 13,
   "metadata": {},
   "outputs": [
    {
     "name": "stdout",
     "output_type": "stream",
     "text": [
      "Null Columns:\n"
     ]
    }
   ],
   "source": [
    "# Check for null values \n",
    "print('Null Columns:')\n",
    "for i in features:\n",
    "    c = df[i].isnull().sum() / float(len(df))\n",
    "    if c > 0.95:\n",
    "        print(i, c)\n",
    "        features.remove(i)"
   ]
  },
  {
   "cell_type": "code",
   "execution_count": 14,
   "metadata": {},
   "outputs": [
    {
     "name": "stdout",
     "output_type": "stream",
     "text": [
      "Zero Columns:\n"
     ]
    }
   ],
   "source": [
    "# Check for zero values\n",
    "print('Zero Columns:')\n",
    "for i in features:\n",
    "    n = (df[i] == 0).astype(int).sum() / float(len(df))\n",
    "    if n > 0.95:\n",
    "        print(i, n)\n",
    "        features.remove(i)"
   ]
  },
  {
   "cell_type": "code",
   "execution_count": 15,
   "metadata": {},
   "outputs": [
    {
     "name": "stdout",
     "output_type": "stream",
     "text": [
      "Unique Values:\n",
      "mdtwomean 0.0057219878561662035\n",
      "vdaily_range 0.06939935327928874\n",
      "md1w6 0.005563223753701795\n",
      "mdbw3 0.00559562459093943\n",
      "mweek4rangevol 0.0057219878561662035\n",
      "mweekrangevol 0.0057219878561662035\n",
      "zmdo_tema_change0/atr*zdm_fastkrsi_change1 0.004111666245455782\n",
      "mdtwmean 0.00570902752127115\n",
      "mdtwomax 0.001979691155219451\n",
      "mgap 0.0025078248021928886\n",
      "mdbwomax 0.001999131657562031\n",
      "md1w9 0.0712008398297012\n",
      "mdbwmax 0.0019926514901145048\n",
      "mdtwo4 0.005666906432862225\n",
      "mweek3rangeatr 0.0057219878561662035\n",
      "mdtw1 0.0054984220792265275\n"
     ]
    }
   ],
   "source": [
    "# Check unique values in each feature\n",
    "print('Unique Values:')\n",
    "for i in features:\n",
    "    u = len(df[i].unique()) / float(len(df))\n",
    "    if u < 0.1:\n",
    "        print(i, u)"
   ]
  },
  {
   "cell_type": "markdown",
   "metadata": {
    "collapsed": true
   },
   "source": [
    "### Label Data with Different Classes"
   ]
  },
  {
   "cell_type": "code",
   "execution_count": 16,
   "metadata": {
    "collapsed": true
   },
   "outputs": [],
   "source": [
    "### Define Objective and Label ###\n",
    "df['maxreturn'] = (df.high - df.entry_price) / df.zv_length\n",
    "df['label'] = (df.maxreturn > 0.4).astype(int)"
   ]
  },
  {
   "cell_type": "code",
   "execution_count": 21,
   "metadata": {},
   "outputs": [
    {
     "name": "stdout",
     "output_type": "stream",
     "text": [
      "Percent of Target Trades: 0.267964644206\n"
     ]
    }
   ],
   "source": [
    "### Look at return details ###\n",
    "print('Percent of Target Trades:', df.label.sum() / float(len(df)))"
   ]
  },
  {
   "cell_type": "markdown",
   "metadata": {},
   "source": [
    "### Split Data into Training and Testing Sets"
   ]
  },
  {
   "cell_type": "code",
   "execution_count": 36,
   "metadata": {},
   "outputs": [
    {
     "name": "stdout",
     "output_type": "stream",
     "text": [
      "Length of Training Set: 147386\n",
      "Length of Testing Set: 69202\n"
     ]
    }
   ],
   "source": [
    "### Split the data into training, testing sets ###\n",
    "train = df[(pd.to_datetime(df.entry_time) < pd.to_datetime('2017-01-01')) & \n",
    "           (pd.to_datetime(df.entry_time) >= pd.to_datetime('2014-01-01'))]\n",
    "test = df[pd.to_datetime(df.entry_time) >= pd.to_datetime('2017-01-01')]\n",
    "\n",
    "X_train = train.loc[:,features]\n",
    "y_train = train.loc[:,'label']\n",
    "\n",
    "X_test = test.loc[:,features]\n",
    "y_test = test.loc[:,'label']\n",
    "\n",
    "print('Length of Training Set: ' + str(len(train)))\n",
    "print('Length of Testing Set: ' + str(len(test)))"
   ]
  },
  {
   "cell_type": "markdown",
   "metadata": {},
   "source": [
    "### Clean and Standardize Data"
   ]
  },
  {
   "cell_type": "code",
   "execution_count": 23,
   "metadata": {
    "collapsed": true
   },
   "outputs": [],
   "source": [
    "### Remove null values and replace with the median of each column ###\n",
    "transform = Imputer(missing_values='NaN',strategy='median')\n",
    "\n",
    "### Find median of each column in training set and replace null values ###\n",
    "X_train = transform.fit_transform(X_train)\n",
    "\n",
    "### Apply median from training set to null values of test set ###\n",
    "X_test = transform.transform(X_test)"
   ]
  },
  {
   "cell_type": "markdown",
   "metadata": {},
   "source": [
    "### Train Random Forest"
   ]
  },
  {
   "cell_type": "code",
   "execution_count": 29,
   "metadata": {
    "scrolled": true
   },
   "outputs": [
    {
     "name": "stderr",
     "output_type": "stream",
     "text": [
      "[Parallel(n_jobs=-1)]: Done  26 tasks      | elapsed:    1.6s\n",
      "[Parallel(n_jobs=-1)]: Done 176 tasks      | elapsed:    9.1s\n",
      "[Parallel(n_jobs=-1)]: Done 200 out of 200 | elapsed:   10.2s finished\n"
     ]
    },
    {
     "data": {
      "text/plain": [
       "RandomForestClassifier(bootstrap=True, class_weight=None, criterion='gini',\n",
       "            max_depth=10, max_features='auto', max_leaf_nodes=100,\n",
       "            min_impurity_decrease=0.0, min_impurity_split=None,\n",
       "            min_samples_leaf=1, min_samples_split=2,\n",
       "            min_weight_fraction_leaf=0.0, n_estimators=200, n_jobs=-1,\n",
       "            oob_score=False, random_state=None, verbose=1,\n",
       "            warm_start=False)"
      ]
     },
     "execution_count": 29,
     "metadata": {},
     "output_type": "execute_result"
    }
   ],
   "source": [
    "### Train and fit classifier to Training Data ###\n",
    "clf = RandomForestClassifier(n_estimators=200, max_depth=10, max_leaf_nodes=100, n_jobs=-1, verbose=1)\n",
    "\n",
    "clf.fit(X_train, y_train)"
   ]
  },
  {
   "cell_type": "code",
   "execution_count": 30,
   "metadata": {},
   "outputs": [
    {
     "name": "stderr",
     "output_type": "stream",
     "text": [
      "[Parallel(n_jobs=12)]: Done  26 tasks      | elapsed:    0.0s\n",
      "[Parallel(n_jobs=12)]: Done 176 tasks      | elapsed:    0.1s\n",
      "[Parallel(n_jobs=12)]: Done 200 out of 200 | elapsed:    0.1s finished\n"
     ]
    },
    {
     "data": {
      "text/plain": [
       "7327"
      ]
     },
     "execution_count": 30,
     "metadata": {},
     "output_type": "execute_result"
    }
   ],
   "source": [
    "y_pred = clf.predict_proba(X_test)\n",
    "y_pred.sum()"
   ]
  },
  {
   "cell_type": "code",
   "execution_count": 31,
   "metadata": {
    "collapsed": true
   },
   "outputs": [],
   "source": [
    "trades = test.assign(pred = y_pred)\n",
    "trades = trades[trades.pred > 0.5]"
   ]
  },
  {
   "cell_type": "code",
   "execution_count": 32,
   "metadata": {},
   "outputs": [
    {
     "name": "stdout",
     "output_type": "stream",
     "text": [
      "Original Max Return - No ML\n",
      "count    69200.000000\n",
      "mean         0.309639\n",
      "std          0.297807\n",
      "min         -1.654131\n",
      "25%          0.095233\n",
      "50%          0.238095\n",
      "75%          0.444445\n",
      "max          7.350002\n",
      "Name: maxreturn, dtype: float64\n",
      "---------------\n",
      "Max Return with ML\n",
      "count    7327.000000\n",
      "mean        0.519106\n",
      "std         0.431170\n",
      "min        -1.654131\n",
      "25%         0.213973\n",
      "50%         0.450262\n",
      "75%         0.742974\n",
      "max         3.444437\n",
      "Name: maxreturn, dtype: float64\n"
     ]
    }
   ],
   "source": [
    "print('Original Max Return - No ML')\n",
    "print(test.maxreturn.describe())\n",
    "print('---------------')\n",
    "print('Max Return with ML')\n",
    "print(trades.maxreturn.describe())"
   ]
  },
  {
   "cell_type": "code",
   "execution_count": 33,
   "metadata": {},
   "outputs": [
    {
     "name": "stdout",
     "output_type": "stream",
     "text": [
      "Original PnL - No ML\n"
     ]
    },
    {
     "data": {
      "image/png": "[encoded data removed]",
      "text/plain": [
       "<matplotlib.figure.Figure at 0x17daef3ab00>"
      ]
     },
     "metadata": {},
     "output_type": "display_data"
    },
    {
     "name": "stdout",
     "output_type": "stream",
     "text": [
      "----------------\n",
      "PnL with ML\n"
     ]
    },
    {
     "data": {
      "image/png": "[encoded data removed]",
      "text/plain": [
       "<matplotlib.figure.Figure at 0x17ddf0cda90>"
      ]
     },
     "metadata": {},
     "output_type": "display_data"
    }
   ],
   "source": [
    "trades = trades.sort_values('entry_time')\n",
    "trades['cpl'] = trades.mtm_pl.cumsum()\n",
    "test = test.sort_values('entry_time')\n",
    "test['cpl'] = test.mtm_pl.cumsum()\n",
    "print('Original PnL - No ML')\n",
    "test.plot(x='entry_time',y='cpl',figsize=[12,8])\n",
    "plt.show()\n",
    "print('----------------')\n",
    "print('PnL with ML')\n",
    "trades.plot(x='entry_time',y='cpl',figsize=[12,8])\n",
    "plt.show()"
   ]
  },
  {
   "cell_type": "code",
   "execution_count": 34,
   "metadata": {
    "scrolled": false
   },
   "outputs": [
    {
     "name": "stdout",
     "output_type": "stream",
     "text": [
      "minscd3/minsd3rvold 0.0836191977425\n",
      "minscd4/minsd1rvold 0.0787717117044\n",
      "highlastt 0.0630715736456\n",
      "minscd2 0.0618851364907\n",
      "minscd5-minsd5rvold 0.057315901154\n",
      "ztmins_from_close 0.0529302306735\n",
      "high10atr 0.0465824529988\n",
      "high20drange 0.0422191810606\n",
      "minscd2rvold/minsd0rvold 0.0324615235945\n",
      "mdbwmax 0.0302479607436\n",
      "minscd5rvol/minsod5rvold 0.0297132106729\n",
      "mdtwomean 0.0250349531597\n",
      "zmms_linearreg_slope_prev2-zms_tsf_prev0 0.0237351497252\n",
      "mdtwmean 0.0228675909391\n",
      "zmdo_tema_change0/atr*zdm_fastkrsi_change1 0.0228196343988\n",
      "zl1_last-zmo_midprice2/dailyrange 0.0214179723196\n",
      "zdv_ad_change1pmdiff 0.0208508280668\n",
      "mgap 0.0203791340187\n",
      "md1w6 0.0196039491465\n",
      "mdbwomax 0.0190108593949\n",
      "zl1_last-zmo_ema2/dailyrange 0.0187950332149\n",
      "mrvol 0.018315029297\n",
      "openvwaplast_rvol 0.0182670120578\n",
      "mdbw3 0.0171693676075\n",
      "mweek3rangeatr 0.0152726019396\n",
      "mdtwomax 0.0143184435186\n",
      "mweekrangevol 0.0141299216445\n",
      "mdtwo4 0.0129327866942\n",
      "vdaily_range 0.0129264018475\n",
      "mweek4rangevol 0.012708886201\n",
      "md1w9 0.0111755263646\n",
      "zl1_daily_vwap-zdo_tema0/dailyrange 0.0102783734144\n",
      "mtd0d2_rvol 0.00848537452706\n",
      "mdtw1 0.00845091156884\n",
      "mtd0d1*accvol 0.00710700574688\n",
      "vvwapopen_accvol 0.00684361643711\n",
      "gapatr 0.00505377194885\n",
      "mdbw1*beta 0.00455435735382\n",
      "zmms_stddev_prev2-zms_linearreg_slope_slope0 0.00421231741214\n",
      "zdo_ema_change2/atr*zdm_cci2 0.00165320662078\n",
      "zms_linearreg0-zms_linearreg_change1 0.00137562551987\n",
      "avol 0.00104702475794\n",
      "spreadday 0.000389252654526\n"
     ]
    }
   ],
   "source": [
    "### Feature Importances ###\n",
    "importances = sorted(list(zip(clf.feature_importances_, features)),reverse=True)\n",
    "for i, f in importances:\n",
    "    print(f, i)"
   ]
  },
  {
   "cell_type": "markdown",
   "metadata": {},
   "source": [
    "## Gradient Boosted Model"
   ]
  },
  {
   "cell_type": "code",
   "execution_count": 106,
   "metadata": {
    "collapsed": true
   },
   "outputs": [],
   "source": [
    "data = lgb.Dataset(X_train, y_train)\n",
    "param = {'max_depth':6, 'num_leaves':10, 'learning_rate':0.01, 'num_threads':-1,\n",
    "         'min_data_in_leaf':100, 'objective':'binary', 'metric':'binary_logloss','verbosity':-1}\n",
    "bst = lgb.train(param, data, 500)"
   ]
  },
  {
   "cell_type": "code",
   "execution_count": 107,
   "metadata": {},
   "outputs": [
    {
     "data": {
      "text/plain": [
       "18057.297662074401"
      ]
     },
     "execution_count": 107,
     "metadata": {},
     "output_type": "execute_result"
    }
   ],
   "source": [
    "y_pred = bst.predict(X_test)\n",
    "y_pred.sum()"
   ]
  },
  {
   "cell_type": "code",
   "execution_count": null,
   "metadata": {
    "collapsed": true
   },
   "outputs": [],
   "source": []
  }
 ],
 "metadata": {
  "kernelspec": {
   "display_name": "Python 2",
   "language": "python",
   "name": "python2"
  },
  "language_info": {
   "codemirror_mode": {
    "name": "ipython",
    "version": 2
   },
   "file_extension": ".py",
   "mimetype": "text/x-python",
   "name": "python",
   "nbconvert_exporter": "python",
   "pygments_lexer": "ipython2",
   "version": "2.7.15rc1"
  }
 },
 "nbformat": 4,
 "nbformat_minor": 2
}
